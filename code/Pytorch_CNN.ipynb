{
  "nbformat": 4,
  "nbformat_minor": 0,
  "metadata": {
    "colab": {
      "provenance": [],
      "authorship_tag": "ABX9TyP4rsVaLiPcL22psE4lH4xW",
      "include_colab_link": true
    },
    "kernelspec": {
      "name": "python3",
      "display_name": "Python 3"
    },
    "language_info": {
      "name": "python"
    }
  },
  "cells": [
    {
      "cell_type": "markdown",
      "metadata": {
        "id": "view-in-github",
        "colab_type": "text"
      },
      "source": [
        "<a href=\"https://colab.research.google.com/github/MinyoungHer/Pytorch-study/blob/main/Pytorch_CNN.ipynb\" target=\"_parent\"><img src=\"https://colab.research.google.com/assets/colab-badge.svg\" alt=\"Open In Colab\"/></a>"
      ]
    },
    {
      "cell_type": "markdown",
      "source": [
        "# CNN model with pytorch"
      ],
      "metadata": {
        "id": "w81_OnrCsrLx"
      }
    },
    {
      "cell_type": "markdown",
      "source": [
        "## 0. pytorch에서의 컴퓨터 비전 라이브러리\n",
        "\n",
        "* `torchvision`: pytorch에서 컴퓨터 비전 기본 라이브러리에 해당된다.\n",
        "* `torchvision.datasets`: 데이터 셋과 데이터를 불러들이는 함수이다.\n",
        "* `torchvision.transforms` : ML모델에 적합하도록 이미지 데이터를 조작할 수 있는 함수이다.\n",
        "* `torch.utils.data.Dataset`: 기본 데이터셋 클래스를 불러올 수 있다.\n",
        "*`torch.utils.data.DataLoader`: 반복가능한 데이터셋을 불러들이는 함수이다."
      ],
      "metadata": {
        "id": "mmRZHLM3sqQg"
      }
    },
    {
      "cell_type": "code",
      "source": [
        "import torch\n",
        "from torch import nn\n",
        "\n",
        "import torchvision\n",
        "from torchvision import datasets\n",
        "from torchvision import transforms\n",
        "from torchvision.transforms import ToTensor\n",
        "\n",
        "import matplotlib.pyplot as plt\n"
      ],
      "metadata": {
        "id": "t8K7PyJTteBe"
      },
      "execution_count": 2,
      "outputs": []
    },
    {
      "cell_type": "markdown",
      "source": [
        "## 1. 데이터 셋 불러오기\n",
        "Pytorch에서 FashioMNIST 데이터를 불러온다.\n"
      ],
      "metadata": {
        "id": "Zwx8KBNVtuPo"
      }
    },
    {
      "cell_type": "code",
      "source": [
        "train_data=datasets.FashionMNIST(\n",
        "    root=\"data\",\n",
        "    train=True,\n",
        "    download=True,\n",
        "    transform=torchvision.transforms.ToTensor(),\n",
        "    target_transform=None\n",
        ")\n",
        "\n",
        "test_data=datasets.FashionMNIST(\n",
        "    root=\"data\",\n",
        "    train=False,\n",
        "    download=True,\n",
        "    transform=torchvision.transforms.ToTensor(),\n",
        "    target_transform=None\n",
        "\n",
        ")"
      ],
      "metadata": {
        "colab": {
          "base_uri": "https://localhost:8080/"
        },
        "id": "-yKABem8t3tp",
        "outputId": "61839738-c292-45fe-dc82-dcb090beccf7"
      },
      "execution_count": 3,
      "outputs": [
        {
          "output_type": "stream",
          "name": "stdout",
          "text": [
            "Downloading http://fashion-mnist.s3-website.eu-central-1.amazonaws.com/train-images-idx3-ubyte.gz\n",
            "Downloading http://fashion-mnist.s3-website.eu-central-1.amazonaws.com/train-images-idx3-ubyte.gz to data/FashionMNIST/raw/train-images-idx3-ubyte.gz\n"
          ]
        },
        {
          "output_type": "stream",
          "name": "stderr",
          "text": [
            "100%|██████████| 26421880/26421880 [00:01<00:00, 18290631.03it/s]\n"
          ]
        },
        {
          "output_type": "stream",
          "name": "stdout",
          "text": [
            "Extracting data/FashionMNIST/raw/train-images-idx3-ubyte.gz to data/FashionMNIST/raw\n",
            "\n",
            "Downloading http://fashion-mnist.s3-website.eu-central-1.amazonaws.com/train-labels-idx1-ubyte.gz\n",
            "Downloading http://fashion-mnist.s3-website.eu-central-1.amazonaws.com/train-labels-idx1-ubyte.gz to data/FashionMNIST/raw/train-labels-idx1-ubyte.gz\n"
          ]
        },
        {
          "output_type": "stream",
          "name": "stderr",
          "text": [
            "100%|██████████| 29515/29515 [00:00<00:00, 345129.60it/s]\n"
          ]
        },
        {
          "output_type": "stream",
          "name": "stdout",
          "text": [
            "Extracting data/FashionMNIST/raw/train-labels-idx1-ubyte.gz to data/FashionMNIST/raw\n",
            "\n",
            "Downloading http://fashion-mnist.s3-website.eu-central-1.amazonaws.com/t10k-images-idx3-ubyte.gz\n",
            "Downloading http://fashion-mnist.s3-website.eu-central-1.amazonaws.com/t10k-images-idx3-ubyte.gz to data/FashionMNIST/raw/t10k-images-idx3-ubyte.gz\n"
          ]
        },
        {
          "output_type": "stream",
          "name": "stderr",
          "text": [
            "100%|██████████| 4422102/4422102 [00:00<00:00, 6024153.63it/s]\n"
          ]
        },
        {
          "output_type": "stream",
          "name": "stdout",
          "text": [
            "Extracting data/FashionMNIST/raw/t10k-images-idx3-ubyte.gz to data/FashionMNIST/raw\n",
            "\n",
            "Downloading http://fashion-mnist.s3-website.eu-central-1.amazonaws.com/t10k-labels-idx1-ubyte.gz\n",
            "Downloading http://fashion-mnist.s3-website.eu-central-1.amazonaws.com/t10k-labels-idx1-ubyte.gz to data/FashionMNIST/raw/t10k-labels-idx1-ubyte.gz\n"
          ]
        },
        {
          "output_type": "stream",
          "name": "stderr",
          "text": [
            "100%|██████████| 5148/5148 [00:00<00:00, 6699434.38it/s]"
          ]
        },
        {
          "output_type": "stream",
          "name": "stdout",
          "text": [
            "Extracting data/FashionMNIST/raw/t10k-labels-idx1-ubyte.gz to data/FashionMNIST/raw\n",
            "\n"
          ]
        },
        {
          "output_type": "stream",
          "name": "stderr",
          "text": [
            "\n"
          ]
        }
      ]
    },
    {
      "cell_type": "code",
      "source": [
        "len(train_data), len(test_data)"
      ],
      "metadata": {
        "colab": {
          "base_uri": "https://localhost:8080/"
        },
        "id": "FsVY4gOTuSGQ",
        "outputId": "7085c5b3-1fe1-4439-8ed5-6048b313bd7b"
      },
      "execution_count": 4,
      "outputs": [
        {
          "output_type": "execute_result",
          "data": {
            "text/plain": [
              "(60000, 10000)"
            ]
          },
          "metadata": {},
          "execution_count": 4
        }
      ]
    },
    {
      "cell_type": "code",
      "source": [
        "# FashionMNIST데이터의 레이블은 다음과 같다.\n",
        "class_names_idx=train_data.class_to_idx\n",
        "class_names_idx"
      ],
      "metadata": {
        "colab": {
          "base_uri": "https://localhost:8080/"
        },
        "id": "vocHJ_XUuaAk",
        "outputId": "087b6bf9-3c87-4bd2-8c40-79dd2a99a671"
      },
      "execution_count": 5,
      "outputs": [
        {
          "output_type": "execute_result",
          "data": {
            "text/plain": [
              "{'T-shirt/top': 0,\n",
              " 'Trouser': 1,\n",
              " 'Pullover': 2,\n",
              " 'Dress': 3,\n",
              " 'Coat': 4,\n",
              " 'Sandal': 5,\n",
              " 'Shirt': 6,\n",
              " 'Sneaker': 7,\n",
              " 'Bag': 8,\n",
              " 'Ankle boot': 9}"
            ]
          },
          "metadata": {},
          "execution_count": 5
        }
      ]
    },
    {
      "cell_type": "code",
      "source": [
        "# 레이블도 class_names로 저장하였다.\n",
        "class_names=train_data.classes\n",
        "class_names"
      ],
      "metadata": {
        "colab": {
          "base_uri": "https://localhost:8080/"
        },
        "id": "FXlAeax4ueEV",
        "outputId": "58b3dc85-d34b-410d-9794-31376de25ab8"
      },
      "execution_count": 6,
      "outputs": [
        {
          "output_type": "execute_result",
          "data": {
            "text/plain": [
              "['T-shirt/top',\n",
              " 'Trouser',\n",
              " 'Pullover',\n",
              " 'Dress',\n",
              " 'Coat',\n",
              " 'Sandal',\n",
              " 'Shirt',\n",
              " 'Sneaker',\n",
              " 'Bag',\n",
              " 'Ankle boot']"
            ]
          },
          "metadata": {},
          "execution_count": 6
        }
      ]
    },
    {
      "cell_type": "markdown",
      "source": [
        "### 1.2 데이터 시각화\n",
        "\n",
        "FashionMNIST 데이터에 대한 간단한 시각화를 해본다."
      ],
      "metadata": {
        "id": "89mJiqg_u86I"
      }
    },
    {
      "cell_type": "code",
      "source": [
        "# 사용할 데이터는 다음과 같이 패션 그림에 관한 데이터이다.\n",
        "import matplotlib.pyplot as plt\n",
        "image, label=train_data[5]\n",
        "\n",
        "plt.imshow(image.squeeze())\n",
        "plt.title(class_names[label])"
      ],
      "metadata": {
        "colab": {
          "base_uri": "https://localhost:8080/",
          "height": 470
        },
        "id": "60MYBR0GuocC",
        "outputId": "34d6a2f9-7776-46ff-abd3-2f88a5426fd3"
      },
      "execution_count": 7,
      "outputs": [
        {
          "output_type": "execute_result",
          "data": {
            "text/plain": [
              "Text(0.5, 1.0, 'Pullover')"
            ]
          },
          "metadata": {},
          "execution_count": 7
        },
        {
          "output_type": "display_data",
          "data": {
            "text/plain": [
              "<Figure size 640x480 with 1 Axes>"
            ],
            "image/png": "[encoded data removed]"
          },
          "metadata": {}
        }
      ]
    },
    {
      "cell_type": "code",
      "source": [
        "fig=plt.figure(figsize=(9,9))\n",
        "rows, cols=4,4\n",
        "for i in range(1, rows*cols+1):\n",
        "  random_idx=torch.randint(0, len(train_data), size=[1]).item()\n",
        "  print(random_idx)\n",
        "  img, label=train_data[random_idx]\n",
        "  plt.subplot(rows, cols, i)\n",
        "  plt.imshow(img.squeeze(), cmap=\"gray\")\n",
        "  plt.title(class_names[label])\n",
        "  plt.axis(False)"
      ],
      "metadata": {
        "colab": {
          "base_uri": "https://localhost:8080/",
          "height": 1000
        },
        "id": "YWpCHXJavIl7",
        "outputId": "e5c27852-bc9d-400f-b2a0-552899f08043"
      },
      "execution_count": 8,
      "outputs": [
        {
          "output_type": "stream",
          "name": "stdout",
          "text": [
            "46666\n",
            "3667\n",
            "59785\n",
            "3140\n",
            "13885\n",
            "19441\n",
            "21693\n",
            "27669\n",
            "58380\n",
            "4333\n",
            "12194\n",
            "3151\n",
            "45859\n",
            "43892\n",
            "5165\n",
            "18296\n"
          ]
        },
        {
          "output_type": "display_data",
          "data": {
            "text/plain": [
              "<Figure size 900x900 with 16 Axes>"
            ],
            "image/png": "[encoded data removed]"
          },
          "metadata": {}
        }
      ]
    },
    {
      "cell_type": "markdown",
      "source": [
        "## 2. Dataloader 불러오기\n",
        "* 반복가능한 형태의 Dataloader로 dataset을 바꾼다.\n",
        "* 이는 데이터를 batch의 크기만큼 나누어서 업데이트하기 위한 과정이며 계산의 효율성 측면에서 장점이 있다.\n"
      ],
      "metadata": {
        "id": "hx-2md5SwKvw"
      }
    },
    {
      "cell_type": "code",
      "source": [
        "from torch.utils.data import DataLoader\n",
        "\n",
        "Batch_size=32\n",
        "\n",
        "train_dataloader=DataLoader(dataset=train_data,\n",
        "                            batch_size=Batch_size,\n",
        "                            shuffle=True)\n",
        "test_dataloader=DataLoader(dataset=test_data,\n",
        "                           batch_size=Batch_size,\n",
        "                           shuffle=False)\n",
        "train_dataloader, test_dataloader"
      ],
      "metadata": {
        "colab": {
          "base_uri": "https://localhost:8080/"
        },
        "id": "0OUcVcXAwGIU",
        "outputId": "517dfd03-7689-4045-f0a6-33e7e3883c45"
      },
      "execution_count": 9,
      "outputs": [
        {
          "output_type": "execute_result",
          "data": {
            "text/plain": [
              "(<torch.utils.data.dataloader.DataLoader at 0x7fc920303280>,\n",
              " <torch.utils.data.dataloader.DataLoader at 0x7fc922841930>)"
            ]
          },
          "metadata": {},
          "execution_count": 9
        }
      ]
    },
    {
      "cell_type": "code",
      "source": [
        "# training dataloader에 무엇이 있는지 확인한다.\n",
        "train_features_batch, train_labels_batch=next(iter(train_dataloader))\n",
        "train_features_batch.shape, train_labels_batch.shape"
      ],
      "metadata": {
        "colab": {
          "base_uri": "https://localhost:8080/"
        },
        "id": "gxNJTUE5xEfF",
        "outputId": "ea51217d-49a2-46b2-e7d0-0e374da62d9c"
      },
      "execution_count": 10,
      "outputs": [
        {
          "output_type": "execute_result",
          "data": {
            "text/plain": [
              "(torch.Size([32, 1, 28, 28]), torch.Size([32]))"
            ]
          },
          "metadata": {},
          "execution_count": 10
        }
      ]
    },
    {
      "cell_type": "markdown",
      "source": [
        "## 3. CNN 모델 생성\n",
        "* CNN은 시각적인 자료에서 패턴을 찾는데 유용하다."
      ],
      "metadata": {
        "id": "D40bCLA9xjCj"
      }
    },
    {
      "cell_type": "markdown",
      "source": [
        "다음은 CNN model을 위한 class를 생성하는 과정이다."
      ],
      "metadata": {
        "id": "y4B6_2p10xdd"
      }
    },
    {
      "cell_type": "code",
      "source": [
        "class CNNMODEL(nn.Module):\n",
        "  def __init__(self, input_shape: int,\n",
        "               hidden_units: int,\n",
        "               output_shape: int):\n",
        "    super().__init__()\n",
        "    self.conv_block1=nn.Sequential(\n",
        "        nn.Conv2d(in_channels=input_shape,\n",
        "                  out_channels=hidden_units,\n",
        "                  kernel_size=3,\n",
        "                  stride=1,\n",
        "                  padding=1),\n",
        "        nn.ReLU(),\n",
        "        nn.Conv2d(in_channels=hidden_units,\n",
        "                  out_channels=hidden_units,\n",
        "                  kernel_size=3,\n",
        "                  stride=1,\n",
        "                  padding=1),\n",
        "        nn.ReLU(),\n",
        "        nn.MaxPool2d(kernel_size=2)\n",
        "    )\n",
        "\n",
        "    self.conv_block2=nn.Sequential(\n",
        "        nn.Conv2d(in_channels=hidden_units,\n",
        "                  out_channels=hidden_units,\n",
        "                  kernel_size=3,\n",
        "                  stride=1,\n",
        "                  padding=1),\n",
        "        nn.ReLU(),\n",
        "        nn.Conv2d(in_channels=hidden_units,\n",
        "                  out_channels=hidden_units,\n",
        "                  kernel_size=3,\n",
        "                  stride=1,\n",
        "                  padding=1),\n",
        "        nn.ReLU(),\n",
        "        nn.MaxPool2d(kernel_size=2)\n",
        "\n",
        "    )\n",
        "\n",
        "    self.classifier=nn.Sequential(\n",
        "        nn.Flatten(),\n",
        "        nn.Linear(in_features=hidden_units*7*7,\n",
        "                  out_features=output_shape)\n",
        "    )\n",
        "\n",
        "\n",
        "\n",
        "  def forward(self, x):\n",
        "    x=self.conv_block1(x)\n",
        "    #print(x.shape)\n",
        "    x=self.conv_block2(x)\n",
        "    #print(x.shape)\n",
        "    x=self.classifier(x)\n",
        "    #print(x.shape)\n",
        "    return x\n"
      ],
      "metadata": {
        "id": "GTtTg4laxQSW"
      },
      "execution_count": 11,
      "outputs": []
    },
    {
      "cell_type": "code",
      "source": [
        "# 이를 model_CNN이라는 이름으로 모델을 설정하였다.\n",
        "model_CNN=CNNMODEL(input_shape=1,\n",
        "                   hidden_units=10,\n",
        "                   output_shape=len(class_names))\n",
        "model_CNN"
      ],
      "metadata": {
        "colab": {
          "base_uri": "https://localhost:8080/"
        },
        "id": "S06A1VBVzsrO",
        "outputId": "db8914d6-3f35-4821-c663-4cd372e1b3e8"
      },
      "execution_count": 12,
      "outputs": [
        {
          "output_type": "execute_result",
          "data": {
            "text/plain": [
              "CNNMODEL(\n",
              "  (conv_block1): Sequential(\n",
              "    (0): Conv2d(1, 10, kernel_size=(3, 3), stride=(1, 1), padding=(1, 1))\n",
              "    (1): ReLU()\n",
              "    (2): Conv2d(10, 10, kernel_size=(3, 3), stride=(1, 1), padding=(1, 1))\n",
              "    (3): ReLU()\n",
              "    (4): MaxPool2d(kernel_size=2, stride=2, padding=0, dilation=1, ceil_mode=False)\n",
              "  )\n",
              "  (conv_block2): Sequential(\n",
              "    (0): Conv2d(10, 10, kernel_size=(3, 3), stride=(1, 1), padding=(1, 1))\n",
              "    (1): ReLU()\n",
              "    (2): Conv2d(10, 10, kernel_size=(3, 3), stride=(1, 1), padding=(1, 1))\n",
              "    (3): ReLU()\n",
              "    (4): MaxPool2d(kernel_size=2, stride=2, padding=0, dilation=1, ceil_mode=False)\n",
              "  )\n",
              "  (classifier): Sequential(\n",
              "    (0): Flatten(start_dim=1, end_dim=-1)\n",
              "    (1): Linear(in_features=490, out_features=10, bias=True)\n",
              "  )\n",
              ")"
            ]
          },
          "metadata": {},
          "execution_count": 12
        }
      ]
    },
    {
      "cell_type": "markdown",
      "source": [
        "### 3.1 손실함수와 최적화\n",
        "\n",
        "모델을 설정하였으니 이제 학습을 위해서 손실함수와 최적화방법을 설정해주어야 한다."
      ],
      "metadata": {
        "id": "YFifSjmy0MiX"
      }
    },
    {
      "cell_type": "code",
      "source": [
        "#손실함수는 다중분류이므로 crossentropy를 사용한다.\n",
        "loss_fn=nn.CrossEntropyLoss()\n",
        "#최적화는 stochastic gradient descent 방법을 사용하였다.\n",
        "optimizer=torch.optim.SGD(params=model_CNN.parameters(), lr=0.1)"
      ],
      "metadata": {
        "id": "konvAmZm1NHJ"
      },
      "execution_count": 13,
      "outputs": []
    },
    {
      "cell_type": "markdown",
      "source": [
        "### 3.2 정확도 함수 만들기\n",
        "모델의 정확도 파악을 하기 위해 관련 함수를 생성한다."
      ],
      "metadata": {
        "id": "a6exwrdo2Kod"
      }
    },
    {
      "cell_type": "code",
      "source": [
        "def accuracy_fn(y_true, y_pred):\n",
        "  correct=torch.eq(y_true, y_pred).sum().item()\n",
        "  acc=(correct/len(y_pred))*100\n",
        "  return acc"
      ],
      "metadata": {
        "id": "N5yCyHxs2SkQ"
      },
      "execution_count": 14,
      "outputs": []
    },
    {
      "cell_type": "markdown",
      "source": [
        "### 3.3 학습과 테스트를 위한 함수 설정\n",
        "모델 학습을 위한 함수를 따로 생성하고자 한다."
      ],
      "metadata": {
        "id": "5zbSyBSC1on3"
      }
    },
    {
      "cell_type": "code",
      "source": [
        "def train_step(model: torch.nn.Module,\n",
        "               data_loader: torch.utils.data.DataLoader,\n",
        "               loss_fn: torch.nn.Module,\n",
        "               optimizer: torch.optim.Optimizer,\n",
        "               accuracy_fn):\n",
        "  train_loss, train_acc=0,0\n",
        "  model.train()\n",
        "\n",
        "  for batch, (X,y) in enumerate(data_loader):\n",
        "    y_pred=model(X)\n",
        "\n",
        "    loss=loss_fn(y_pred, y)\n",
        "    train_loss+=loss\n",
        "    train_acc+=accuracy_fn(y_true=y,\n",
        "                           y_pred=y_pred.argmax(dim=1))\n",
        "\n",
        "    optimizer.zero_grad()\n",
        "    loss.backward()\n",
        "    optimizer.step()\n",
        "\n",
        "\n",
        "  train_loss/=len(data_loader)\n",
        "  train_acc/=len(data_loader)\n",
        "\n",
        "  print(f\"train loss: {train_loss: .5f} | train acc: {train_acc: .2f}%\")\n",
        "\n"
      ],
      "metadata": {
        "id": "0kWcVVq_1lg_"
      },
      "execution_count": 15,
      "outputs": []
    },
    {
      "cell_type": "code",
      "source": [
        "def test_step(model:torch.nn.Module,\n",
        "              data_loader: torch.utils.data.DataLoader,\n",
        "              loss_fn:torch.nn.Module,\n",
        "              accuracy_fn):\n",
        "\n",
        "  test_loss, test_acc=0,0\n",
        "\n",
        "\n",
        "  model.eval()\n",
        "\n",
        "\n",
        "  with torch.inference_mode():\n",
        "    for X, y in data_loader:\n",
        "      test_pred=model(X)\n",
        "\n",
        "      test_loss += loss_fn(test_pred, y)\n",
        "      test_acc += accuracy_fn(y_true=y,\n",
        "                          y_pred=test_pred.argmax(dim=1))\n",
        "\n",
        "\n",
        "    test_loss /= len(data_loader)\n",
        "    test_acc /= len(data_loader)\n",
        "\n",
        "    print(f\"Test loss: {test_loss:.5f} | test acc: {test_acc: .2f}% \\n\")\n",
        "\n"
      ],
      "metadata": {
        "id": "deSuS2mV3VGf"
      },
      "execution_count": 16,
      "outputs": []
    },
    {
      "cell_type": "code",
      "source": [],
      "metadata": {
        "id": "PyITwaOb5EBC"
      },
      "execution_count": 16,
      "outputs": []
    },
    {
      "cell_type": "code",
      "source": [
        "# 함수 생성 완료후 이제 모델을 학습시킨다.\n",
        "\n",
        "epochs=3\n",
        "for epoch in range(epochs):\n",
        "  train_step(model=model_CNN,\n",
        "             data_loader=train_dataloader,\n",
        "             loss_fn=loss_fn,\n",
        "             optimizer=optimizer,\n",
        "             accuracy_fn=accuracy_fn)\n",
        "  test_step(model=model_CNN,\n",
        "            data_loader=test_dataloader,\n",
        "            loss_fn=loss_fn,\n",
        "            accuracy_fn=accuracy_fn)\n",
        "\n",
        "\n"
      ],
      "metadata": {
        "colab": {
          "base_uri": "https://localhost:8080/"
        },
        "id": "zlJzV1f-3Yxz",
        "outputId": "1b8e646b-96a6-442d-d686-16f2db2242d0"
      },
      "execution_count": 17,
      "outputs": [
        {
          "output_type": "stream",
          "name": "stdout",
          "text": [
            "train loss:  0.57965 | train acc:  78.63%\n",
            "Test loss: 0.37629 | test acc:  86.62% \n",
            "\n",
            "train loss:  0.34828 | train acc:  87.36%\n",
            "Test loss: 0.35307 | test acc:  87.55% \n",
            "\n",
            "train loss:  0.31325 | train acc:  88.63%\n",
            "Test loss: 0.32074 | test acc:  88.51% \n",
            "\n"
          ]
        }
      ]
    },
    {
      "cell_type": "markdown",
      "source": [
        "모델 결과를 보면 알 수 있듯, 반복 학습을 할 수록 손실이 줄어들면서 정확도가 올라간 것을 확인할 수 있다.\n",
        "\n",
        "\n",
        "최종 결과로 모델의 정확도는 87%의 성능을 보여주었다."
      ],
      "metadata": {
        "id": "yEKW9LgiOjPn"
      }
    },
    {
      "cell_type": "markdown",
      "source": [
        "### 3.4 CNN 모델 예측\n",
        "* 먼저 우리가 설정한 모델은 로짓 값을 뱉어내므로 이를 확률로 바꿔주는 함수를 생성한다.\n"
      ],
      "metadata": {
        "id": "cB3Drk6kPB9z"
      }
    },
    {
      "cell_type": "code",
      "source": [
        "def make_prediction(model: torch.nn.Module,\n",
        "                    data: list):\n",
        "  pred_probs=[]\n",
        "  model.eval()\n",
        "  with torch.inference_mode():\n",
        "    for sample in data:\n",
        "      sample=torch.unsqueeze(sample, dim=0)\n",
        "      pred_logit=model(sample)\n",
        "      pred_prob=torch.softmax(pred_logit.squeeze(), dim=0)\n",
        "      pred_probs.append(pred_prob)\n",
        "\n",
        "  return torch.stack(pred_probs)"
      ],
      "metadata": {
        "id": "dzUYuTVd4O6P"
      },
      "execution_count": 26,
      "outputs": []
    },
    {
      "cell_type": "markdown",
      "source": [
        "* 그리고 test data에서 random으로 sample을 뽑아낸 후 그 데이터를 가지고 예측을 시도해본다."
      ],
      "metadata": {
        "id": "GaeF7-EcP3kb"
      }
    },
    {
      "cell_type": "code",
      "source": [
        "import random\n",
        "test_sample=[]\n",
        "test_lables=[]\n",
        "for sample, lable in random.sample(list(test_data), k=9):\n",
        "  test_sample.append(sample)\n",
        "  test_lables.append(lable)\n",
        "\n",
        "test_sample[0].shape\n"
      ],
      "metadata": {
        "colab": {
          "base_uri": "https://localhost:8080/"
        },
        "id": "ym5T3DbBP14g",
        "outputId": "bdfd1782-b8c8-45f5-bc92-40fe38ca30bc"
      },
      "execution_count": 27,
      "outputs": [
        {
          "output_type": "execute_result",
          "data": {
            "text/plain": [
              "torch.Size([1, 28, 28])"
            ]
          },
          "metadata": {},
          "execution_count": 27
        }
      ]
    },
    {
      "cell_type": "code",
      "source": [
        "plt.imshow(test_sample[0].squeeze())"
      ],
      "metadata": {
        "colab": {
          "base_uri": "https://localhost:8080/",
          "height": 448
        },
        "id": "f39JQUaHQXSk",
        "outputId": "826ca2fb-7f2e-4cf3-a2fd-0055a20d4a2e"
      },
      "execution_count": 28,
      "outputs": [
        {
          "output_type": "execute_result",
          "data": {
            "text/plain": [
              "<matplotlib.image.AxesImage at 0x7fc92033ace0>"
            ]
          },
          "metadata": {},
          "execution_count": 28
        },
        {
          "output_type": "display_data",
          "data": {
            "text/plain": [
              "<Figure size 640x480 with 1 Axes>"
            ],
            "image/png": "[encoded data removed]"
          },
          "metadata": {}
        }
      ]
    },
    {
      "cell_type": "code",
      "source": [
        "pred_probs= make_prediction(model=model_CNN,\n",
        "                           data=test_sample)\n",
        "pred_probs[0]"
      ],
      "metadata": {
        "colab": {
          "base_uri": "https://localhost:8080/"
        },
        "id": "BshPzLRrQlD7",
        "outputId": "65736b5d-5b07-47be-b9cf-86ab682d0527"
      },
      "execution_count": 30,
      "outputs": [
        {
          "output_type": "execute_result",
          "data": {
            "text/plain": [
              "tensor([4.0425e-01, 1.3536e-06, 3.7311e-05, 3.7467e-03, 6.4340e-03, 3.7794e-07,\n",
              "        5.8529e-01, 3.1934e-06, 2.3505e-04, 1.1918e-06])"
            ]
          },
          "metadata": {},
          "execution_count": 30
        }
      ]
    },
    {
      "cell_type": "markdown",
      "source": [
        "모델에 데이터를 넣어본 결과 확률값이 나오는 것을 알 수 있다."
      ],
      "metadata": {
        "id": "0bRoqHRf9YHy"
      }
    },
    {
      "cell_type": "markdown",
      "source": [
        "해당 확률을 가장 크게 가지고 있는 레이블을 이미지별로 뽑아낸다."
      ],
      "metadata": {
        "id": "WtNBr1A99eyf"
      }
    },
    {
      "cell_type": "code",
      "source": [
        "pred_class=pred_probs.argmax(dim=1)\n",
        "pred_class"
      ],
      "metadata": {
        "colab": {
          "base_uri": "https://localhost:8080/"
        },
        "id": "MMjYoE_mQtyk",
        "outputId": "38c0b4f3-f766-4a91-b964-048004a0152a"
      },
      "execution_count": 32,
      "outputs": [
        {
          "output_type": "execute_result",
          "data": {
            "text/plain": [
              "tensor([6, 4, 4, 8, 5, 6, 5, 8, 6])"
            ]
          },
          "metadata": {},
          "execution_count": 32
        }
      ]
    },
    {
      "cell_type": "markdown",
      "source": [
        "이를 우리가 넣었던 이미지 데이터의 레이블과 비교해본다."
      ],
      "metadata": {
        "id": "yjlz62XU919V"
      }
    },
    {
      "cell_type": "code",
      "source": [
        "test_lables"
      ],
      "metadata": {
        "colab": {
          "base_uri": "https://localhost:8080/"
        },
        "id": "08eFAhCz9yUo",
        "outputId": "c9c51008-4a42-4140-a03e-19d97a419507"
      },
      "execution_count": 35,
      "outputs": [
        {
          "output_type": "execute_result",
          "data": {
            "text/plain": [
              "[0, 4, 4, 8, 5, 6, 5, 8, 6]"
            ]
          },
          "metadata": {},
          "execution_count": 35
        }
      ]
    },
    {
      "cell_type": "markdown",
      "source": [
        "하나의 데이터 말고는 모두 정확하게 예측한 것을 알 수 있다."
      ],
      "metadata": {
        "id": "SzrJId5x-DJu"
      }
    },
    {
      "cell_type": "markdown",
      "source": [
        "그림으로 나타내면 다음과 같이 나타난다."
      ],
      "metadata": {
        "id": "xjzshR3__Ay5"
      }
    },
    {
      "cell_type": "code",
      "source": [
        "plt.figure(figsize=(9,9))\n",
        "nrows=3\n",
        "ncols=3\n",
        "for i ,sample in enumerate(test_sample):\n",
        "  plt.subplot(nrows, ncols, i+1)\n",
        "  plt.imshow(sample.squeeze())\n",
        "  pred_label=class_names[pred_class[i]]\n",
        "  truth_label=class_names[test_lables[i]]\n",
        "  title_text=f\"Pred: {pred_label} | Truth: {truth_label}\"\n",
        "\n",
        "  if pred_label==truth_label:\n",
        "    plt.title(title_text, fontsize=10, c=\"g\")\n",
        "\n",
        "  else:\n",
        "    plt.title(title_text, fontsize=10, c=\"r\")\n",
        "  plt.axis(False)\n"
      ],
      "metadata": {
        "colab": {
          "base_uri": "https://localhost:8080/",
          "height": 749
        },
        "id": "aznAKsuh98U9",
        "outputId": "e51c2854-6478-45dc-c13b-0c84633fbe88"
      },
      "execution_count": 38,
      "outputs": [
        {
          "output_type": "display_data",
          "data": {
            "text/plain": [
              "<Figure size 900x900 with 9 Axes>"
            ],
            "image/png": "[encoded data removed]"
          },
          "metadata": {}
        }
      ]
    },
    {
      "cell_type": "markdown",
      "source": [
        "앞서 살펴보았던 것처럼 첫번째 데이터를 제외하고는 모두 예측이 잘 되었다는 것을 알 수 있다."
      ],
      "metadata": {
        "id": "47g1PpLk_IE8"
      }
    },
    {
      "cell_type": "markdown",
      "source": [
        "## 4. Confusion matrix\n",
        "\n",
        "* `torchmetrics.ConfusionMatrix`으로 confusion matrix 생성이 가능하다.\n",
        "\n",
        "* `mlxtend.plotting.plot_confusion_matrix()`으로 confusion matrix를 그릴 수 있다."
      ],
      "metadata": {
        "id": "dqNHEaUc_Pzd"
      }
    },
    {
      "cell_type": "code",
      "source": [
        "y_preds=[]\n",
        "model_CNN.eval()\n",
        "with torch.inference_mode():\n",
        "  for X,y in test_dataloader:\n",
        "    y_logit=model_CNN(X)\n",
        "    y_pred=torch.softmax(y_logit.squeeze(), dim=0).argmax(dim=1)\n",
        "    y_preds.append(y_pred)\n",
        "\n",
        "  print(y_preds)\n",
        "  y_pred_tensor=torch.cat(y_preds)\n",
        "  y_pred_tensor[:3]"
      ],
      "metadata": {
        "colab": {
          "base_uri": "https://localhost:8080/"
        },
        "id": "5eqKLj1D-4r6",
        "outputId": "1c913148-b813-4f3f-c5fd-31ca0794f36b"
      },
      "execution_count": 41,
      "outputs": [
        {
          "output_type": "stream",
          "name": "stdout",
          "text": [
            "[tensor([9, 2, 1, 1, 6, 1, 4, 6, 5, 7, 4, 5, 5, 3, 4, 3, 2, 6, 8, 0, 2, 5, 7, 5,\n",
            "        1, 6, 6, 0, 9, 3, 8, 8]), tensor([3, 3, 8, 0, 7, 5, 7, 9, 6, 1, 3, 9, 6, 7, 2, 3, 4, 6, 4, 4, 5, 8, 2, 2,\n",
            "        8, 4, 8, 0, 7, 7, 8, 5]), tensor([1, 1, 3, 3, 7, 8, 7, 0, 2, 6, 2, 3, 1, 2, 8, 4, 3, 8, 5, 9, 5, 0, 3, 2,\n",
            "        0, 2, 5, 3, 6, 7, 1, 6]), tensor([6, 1, 6, 2, 3, 6, 7, 6, 7, 8, 5, 7, 9, 4, 2, 5, 7, 0, 5, 2, 8, 6, 7, 8,\n",
            "        0, 0, 9, 9, 3, 0, 8, 2]), tensor([1, 5, 4, 1, 9, 1, 8, 6, 6, 1, 2, 5, 1, 0, 0, 0, 1, 6, 1, 3, 2, 2, 2, 4,\n",
            "        1, 4, 5, 6, 4, 7, 9, 3]), tensor([8, 2, 3, 8, 0, 9, 4, 8, 8, 2, 6, 5, 4, 1, 2, 1, 3, 0, 8, 1, 0, 9, 3, 6,\n",
            "        7, 9, 8, 4, 4, 7, 1, 2]), tensor([3, 6, 3, 2, 8, 3, 6, 1, 1, 0, 2, 9, 2, 6, 0, 7, 9, 8, 4, 1, 8, 4, 1, 3,\n",
            "        3, 6, 7, 2, 8, 5, 6, 0]), tensor([7, 7, 6, 6, 7, 0, 7, 8, 9, 2, 9, 0, 5, 1, 3, 2, 5, 6, 9, 2, 2, 8, 6, 4,\n",
            "        6, 2, 9, 7, 3, 5, 5, 4]), tensor([8, 5, 2, 3, 0, 4, 8, 6, 0, 6, 3, 8, 9, 6, 1, 3, 6, 2, 3, 0, 8, 3, 7, 4,\n",
            "        0, 1, 6, 3, 6, 6, 6, 7]), tensor([8, 3, 8, 9, 5, 6, 5, 5, 1, 9, 8, 3, 3, 3, 6, 8, 0, 0, 2, 9, 7, 7, 1, 3,\n",
            "        8, 4, 2, 4, 7, 1, 6, 4]), tensor([8, 2, 6, 5, 6, 2, 7, 7, 7, 3, 3, 7, 0, 7, 1, 3, 7, 2, 2, 3, 4, 0, 3, 1,\n",
            "        0, 1, 9, 4, 9, 9, 1, 7]), tensor([8, 3, 0, 0, 2, 4, 8, 0, 1, 2, 2, 4, 4, 7, 3, 2, 2, 5, 0, 7, 9, 4, 0, 9,\n",
            "        3, 9, 8, 2, 5, 6, 0, 3]), tensor([5, 8, 1, 3, 2, 6, 6, 4, 9, 5, 4, 0, 6, 6, 1, 2, 0, 9, 7, 0, 3, 4, 3, 3,\n",
            "        2, 3, 3, 6, 7, 3, 9, 4]), tensor([2, 1, 5, 4, 5, 3, 8, 5, 8, 4, 4, 8, 9, 8, 6, 2, 4, 4, 2, 4, 1, 6, 1, 3,\n",
            "        0, 7, 8, 8, 6, 5, 3, 1]), tensor([9, 5, 3, 3, 6, 1, 6, 2, 9, 4, 6, 6, 6, 6, 2, 0, 0, 3, 3, 8, 2, 8, 9, 4,\n",
            "        0, 7, 6, 4, 6, 9, 2, 9]), tensor([5, 9, 3, 7, 5, 7, 8, 1, 6, 0, 6, 6, 8, 9, 7, 9, 1, 2, 7, 6, 2, 0, 5, 7,\n",
            "        1, 8, 2, 2, 2, 2, 4, 6]), tensor([6, 1, 9, 2, 5, 1, 9, 1, 2, 8, 3, 6, 7, 2, 6, 6, 7, 0, 2, 0, 5, 7, 7, 5,\n",
            "        0, 9, 4, 3, 4, 2, 5, 1]), tensor([0, 1, 2, 6, 2, 9, 6, 3, 5, 1, 3, 1, 9, 3, 4, 5, 3, 6, 2, 6, 4, 6, 0, 5,\n",
            "        8, 3, 3, 4, 6, 7, 7, 8]), tensor([9, 6, 3, 8, 7, 6, 7, 9, 3, 4, 0, 3, 5, 0, 1, 1, 5, 9, 4, 2, 5, 7, 8, 1,\n",
            "        2, 9, 7, 7, 1, 0, 9, 3]), tensor([2, 9, 0, 5, 6, 8, 2, 7, 1, 2, 3, 8, 2, 2, 6, 9, 3, 0, 7, 8, 8, 2, 9, 4,\n",
            "        1, 6, 4, 1, 0, 1, 4, 2]), tensor([7, 5, 8, 3, 9, 1, 0, 5, 4, 4, 4, 0, 0, 4, 5, 6, 6, 3, 5, 2, 1, 6, 1, 3,\n",
            "        6, 2, 3, 8, 2, 8, 6, 7]), tensor([0, 4, 1, 8, 5, 0, 8, 2, 9, 6, 8, 7, 6, 4, 4, 9, 6, 4, 5, 0, 9, 5, 3, 6,\n",
            "        6, 4, 1, 3, 8, 1, 2, 0]), tensor([9, 7, 7, 4, 8, 9, 1, 3, 7, 3, 0, 2, 6, 7, 1, 0, 6, 8, 7, 2, 6, 6, 6, 4,\n",
            "        1, 5, 9, 0, 0, 3, 6, 5]), tensor([6, 0, 4, 3, 3, 8, 1, 1, 8, 5, 7, 9, 8, 7, 2, 0, 7, 0, 8, 0, 9, 7, 6, 1,\n",
            "        6, 6, 4, 8, 0, 6, 3, 6]), tensor([8, 4, 0, 8, 9, 2, 4, 5, 9, 3, 4, 4, 9, 2, 6, 7, 9, 5, 8, 3, 7, 7, 3, 1,\n",
            "        1, 6, 7, 5, 3, 8, 6, 2]), tensor([7, 0, 8, 3, 2, 2, 0, 7, 1, 4, 9, 3, 5, 8, 5, 4, 7, 2, 8, 5, 9, 3, 3, 6,\n",
            "        7, 1, 7, 0, 0, 4, 6, 0]), tensor([8, 3, 7, 1, 2, 6, 1, 9, 8, 2, 7, 1, 3, 7, 5, 9, 9, 6, 8, 4, 5, 7, 1, 9,\n",
            "        8, 1, 0, 0, 6, 1, 7, 1]), tensor([1, 5, 7, 1, 5, 2, 2, 3, 3, 1, 1, 4, 9, 4, 3, 7, 7, 8, 8, 9, 9, 6, 1, 3,\n",
            "        4, 0, 0, 5, 9, 4, 0, 5]), tensor([5, 1, 5, 7, 8, 7, 9, 3, 6, 4, 0, 4, 0, 2, 0, 2, 5, 5, 1, 2, 0, 9, 3, 7,\n",
            "        8, 4, 8, 3, 4, 7, 0, 7]), tensor([4, 8, 8, 3, 4, 4, 3, 6, 9, 6, 2, 4, 9, 1, 8, 1, 7, 5, 5, 6, 6, 2, 1, 6,\n",
            "        5, 6, 0, 0, 6, 7, 7, 0]), tensor([2, 5, 9, 4, 8, 6, 3, 4, 6, 2, 9, 0, 7, 7, 1, 4, 4, 0, 5, 0, 9, 9, 8, 8,\n",
            "        3, 0, 2, 4, 6, 6, 3, 2]), tensor([3, 7, 4, 9, 3, 4, 7, 7, 0, 3, 9, 5, 6, 4, 5, 9, 6, 3, 7, 5, 1, 9, 8, 8,\n",
            "        6, 9, 2, 7, 2, 4, 3, 8]), tensor([7, 4, 4, 5, 4, 8, 6, 1, 4, 9, 3, 1, 6, 8, 0, 8, 7, 8, 2, 8, 3, 9, 8, 3,\n",
            "        6, 0, 4, 8, 0, 2, 8, 6]), tensor([6, 3, 4, 7, 0, 2, 1, 3, 3, 6, 6, 5, 9, 0, 1, 6, 5, 1, 4, 4, 8, 4, 7, 7,\n",
            "        3, 8, 3, 1, 9, 8, 1, 3]), tensor([3, 7, 5, 0, 5, 7, 0, 9, 2, 3, 5, 8, 4, 6, 3, 8, 6, 0, 5, 2, 7, 1, 0, 3,\n",
            "        5, 4, 8, 6, 0, 1, 1, 7]), tensor([9, 6, 2, 7, 0, 4, 8, 2, 2, 0, 1, 4, 4, 9, 6, 8, 4, 5, 9, 0, 3, 9, 6, 9,\n",
            "        8, 7, 1, 2, 2, 5, 3, 7]), tensor([0, 7, 2, 9, 3, 7, 0, 9, 3, 8, 4, 4, 7, 2, 3, 6, 2, 0, 7, 8, 4, 2, 4, 5,\n",
            "        5, 6, 3, 5, 5, 8, 1, 1]), tensor([7, 4, 6, 9, 6, 8, 7, 2, 6, 1, 6, 7, 7, 4, 9, 8, 5, 1, 3, 3, 2, 3, 9, 3,\n",
            "        1, 9, 3, 5, 5, 2, 0, 7]), tensor([0, 2, 3, 1, 3, 1, 3, 6, 7, 2, 4, 9, 8, 2, 9, 6, 3, 4, 4, 0, 6, 5, 2, 2,\n",
            "        5, 6, 1, 8, 2, 7, 4, 4]), tensor([8, 3, 2, 4, 0, 6, 3, 6, 6, 3, 8, 2, 0, 4, 4, 8, 8, 4, 5, 2, 2, 3, 0, 1,\n",
            "        7, 0, 9, 1, 7, 3, 5, 2]), tensor([2, 7, 3, 8, 9, 0, 8, 0, 7, 5, 7, 9, 5, 0, 6, 0, 3, 2, 4, 4, 9, 7, 1, 3,\n",
            "        4, 0, 6, 5, 1, 6, 7, 3]), tensor([4, 8, 2, 2, 8, 7, 3, 1, 6, 5, 2, 7, 8, 5, 3, 8, 5, 2, 2, 7, 9, 8, 3, 3,\n",
            "        3, 8, 8, 3, 0, 7, 4, 4]), tensor([8, 1, 3, 6, 1, 9, 2, 1, 6, 2, 7, 9, 2, 6, 0, 4, 4, 2, 4, 5, 0, 2, 8, 3,\n",
            "        7, 6, 4, 0, 0, 5, 4, 8]), tensor([2, 6, 4, 0, 2, 1, 7, 9, 5, 2, 9, 2, 2, 9, 3, 3, 1, 3, 6, 6, 6, 1, 9, 6,\n",
            "        4, 7, 1, 0, 6, 5, 8, 4]), tensor([6, 7, 9, 8, 0, 7, 9, 5, 1, 2, 9, 5, 8, 3, 9, 7, 1, 4, 7, 8, 0, 1, 7, 2,\n",
            "        7, 1, 1, 5, 5, 6, 4, 8]), tensor([9, 5, 5, 2, 3, 9, 3, 8, 5, 4, 6, 0, 6, 5, 7, 2, 5, 2, 6, 4, 6, 7, 2, 0,\n",
            "        5, 1, 7, 2, 3, 6, 8, 9]), tensor([8, 7, 1, 2, 3, 2, 9, 7, 5, 6, 0, 0, 7, 3, 2, 0, 9, 3, 6, 4, 4, 3, 0, 0,\n",
            "        2, 3, 6, 1, 3, 5, 6, 5]), tensor([0, 9, 1, 1, 8, 2, 9, 5, 0, 5, 4, 6, 7, 1, 1, 5, 3, 8, 7, 8, 3, 8, 9, 2,\n",
            "        2, 1, 1, 3, 5, 6, 7, 1]), tensor([9, 6, 2, 4, 7, 0, 1, 6, 9, 6, 3, 7, 2, 8, 1, 8, 0, 7, 9, 8, 5, 8, 2, 6,\n",
            "        4, 0, 6, 5, 8, 3, 8, 7]), tensor([8, 7, 3, 7, 0, 7, 0, 4, 2, 5, 3, 5, 1, 1, 7, 7, 6, 3, 6, 4, 2, 8, 6, 3,\n",
            "        1, 4, 9, 9, 4, 5, 2, 2]), tensor([7, 8, 6, 7, 9, 1, 2, 9, 4, 5, 3, 4, 3, 3, 1, 8, 5, 5, 3, 8, 2, 2, 6, 0,\n",
            "        2, 0, 2, 5, 3, 2, 8, 3]), tensor([9, 7, 3, 1, 7, 5, 8, 8, 6, 0, 0, 4, 4, 8, 5, 7, 0, 6, 0, 7, 7, 3, 9, 2,\n",
            "        5, 9, 7, 1, 7, 2, 4, 5]), tensor([1, 4, 5, 4, 5, 0, 4, 2, 1, 4, 3, 8, 4, 7, 9, 4, 1, 1, 7, 2, 3, 5, 6, 3,\n",
            "        9, 7, 5, 3, 8, 8, 8, 7]), tensor([1, 1, 6, 4, 1, 4, 3, 4, 9, 9, 0, 0, 6, 9, 4, 9, 6, 6, 3, 8, 9, 2, 5, 4,\n",
            "        8, 0, 7, 2, 3, 6, 2, 5]), tensor([6, 1, 9, 3, 2, 2, 5, 9, 0, 8, 3, 6, 6, 6, 0, 4, 2, 2, 6, 5, 0, 2, 7, 8,\n",
            "        7, 4, 3, 6, 6, 5, 2, 4]), tensor([2, 9, 5, 2, 6, 7, 0, 1, 9, 5, 5, 0, 7, 7, 5, 0, 5, 0, 3, 4, 7, 9, 8, 2,\n",
            "        4, 7, 3, 3, 7, 7, 7, 8]), tensor([4, 8, 5, 7, 6, 5, 7, 5, 1, 3, 0, 4, 9, 9, 8, 3, 7, 0, 3, 4, 9, 3, 3, 1,\n",
            "        7, 9, 1, 5, 7, 2, 8, 6]), tensor([5, 7, 3, 7, 5, 5, 4, 0, 7, 6, 3, 2, 6, 2, 9, 9, 0, 6, 6, 8, 3, 8, 8, 4,\n",
            "        4, 1, 8, 2, 6, 5, 0, 4]), tensor([4, 3, 0, 6, 1, 6, 8, 4, 9, 0, 7, 6, 7, 7, 1, 5, 8, 7, 2, 9, 9, 1, 2, 2,\n",
            "        1, 1, 1, 8, 8, 1, 3, 7]), tensor([5, 2, 0, 8, 4, 8, 9, 4, 1, 3, 3, 9, 6, 1, 3, 1, 8, 6, 9, 9, 7, 6, 0, 4,\n",
            "        4, 3, 1, 7, 7, 4, 2, 0]), tensor([3, 6, 4, 8, 1, 9, 2, 4, 4, 2, 4, 8, 7, 1, 8, 5, 5, 7, 7, 4, 6, 2, 9, 0,\n",
            "        4, 3, 9, 5, 0, 2, 1, 0]), tensor([3, 7, 7, 3, 7, 4, 5, 7, 9, 8, 9, 1, 4, 8, 3, 2, 3, 6, 0, 8, 3, 8, 3, 8,\n",
            "        6, 0, 8, 8, 4, 2, 9, 3]), tensor([2, 0, 8, 5, 9, 0, 3, 1, 1, 9, 5, 1, 3, 3, 6, 0, 8, 4, 1, 3, 8, 8, 6, 7,\n",
            "        7, 6, 6, 7, 3, 3, 2, 4]), tensor([6, 5, 5, 6, 2, 3, 9, 1, 1, 7, 3, 8, 7, 2, 2, 9, 3, 9, 9, 0, 1, 8, 1, 3,\n",
            "        8, 1, 2, 9, 3, 4, 0, 0]), tensor([7, 6, 9, 9, 5, 5, 7, 0, 9, 3, 3, 6, 9, 8, 4, 2, 6, 3, 9, 2, 3, 6, 7, 4,\n",
            "        0, 6, 8, 1, 8, 7, 6, 4]), tensor([5, 2, 2, 9, 1, 9, 4, 9, 1, 0, 2, 8, 8, 7, 7, 7, 7, 2, 6, 0, 7, 5, 8, 5,\n",
            "        3, 0, 4, 3, 9, 2, 4, 3]), tensor([3, 9, 3, 1, 2, 2, 2, 3, 7, 8, 7, 6, 4, 4, 1, 2, 8, 5, 4, 8, 9, 1, 8, 9,\n",
            "        3, 6, 6, 8, 0, 1, 8, 7]), tensor([6, 6, 7, 7, 6, 0, 4, 3, 4, 7, 8, 7, 2, 8, 0, 8, 7, 4, 6, 2, 7, 0, 9, 9,\n",
            "        3, 1, 5, 9, 3, 1, 6, 3]), tensor([3, 8, 9, 7, 9, 8, 3, 8, 9, 0, 7, 9, 3, 6, 6, 0, 5, 7, 7, 2, 4, 8, 3, 1,\n",
            "        1, 9, 4, 3, 9, 5, 8, 7]), tensor([2, 4, 9, 0, 2, 1, 9, 7, 1, 5, 0, 9, 5, 0, 3, 0, 0, 3, 3, 7, 4, 2, 6, 8,\n",
            "        7, 9, 2, 1, 3, 5, 5, 8]), tensor([5, 3, 7, 2, 4, 4, 9, 6, 0, 0, 9, 1, 4, 3, 1, 5, 3, 8, 5, 1, 1, 2, 9, 4,\n",
            "        0, 5, 2, 8, 0, 2, 9, 8]), tensor([4, 4, 8, 3, 8, 0, 4, 2, 6, 4, 8, 5, 2, 9, 0, 9, 5, 8, 6, 9, 1, 4, 7, 2,\n",
            "        1, 6, 6, 0, 2, 5, 2, 4]), tensor([8, 7, 5, 2, 0, 6, 8, 3, 6, 1, 9, 2, 7, 7, 2, 6, 4, 8, 3, 4, 8, 5, 6, 8,\n",
            "        3, 3, 1, 4, 2, 0, 4, 9]), tensor([6, 4, 1, 9, 9, 8, 1, 4, 8, 3, 3, 3, 8, 5, 9, 2, 2, 8, 7, 2, 3, 6, 0, 4,\n",
            "        5, 7, 5, 0, 7, 9, 1, 2]), tensor([4, 8, 9, 3, 5, 2, 0, 6, 6, 7, 8, 9, 1, 8, 2, 5, 5, 3, 1, 1, 8, 8, 3, 6,\n",
            "        7, 0, 1, 8, 6, 6, 2, 9]), tensor([8, 5, 8, 8, 6, 9, 1, 8, 2, 2, 7, 7, 0, 5, 1, 1, 0, 6, 4, 3, 0, 2, 3, 5,\n",
            "        1, 2, 3, 3, 4, 4, 5, 6]), tensor([9, 8, 3, 3, 1, 0, 2, 1, 2, 4, 4, 8, 2, 9, 0, 7, 9, 5, 3, 6, 0, 7, 0, 3,\n",
            "        9, 7, 3, 4, 1, 7, 4, 1]), tensor([0, 4, 5, 4, 1, 2, 8, 5, 7, 4, 5, 3, 3, 8, 3, 6, 6, 8, 9, 0, 5, 3, 2, 8,\n",
            "        7, 3, 2, 6, 8, 7, 9, 2]), tensor([3, 1, 6, 3, 6, 2, 7, 4, 1, 2, 6, 4, 3, 2, 8, 5, 6, 8, 8, 2, 7, 8, 1, 5,\n",
            "        9, 8, 6, 9, 0, 4, 3, 7]), tensor([5, 7, 9, 6, 0, 7, 1, 5, 8, 9, 5, 4, 4, 2, 4, 5, 9, 7, 4, 2, 6, 9, 8, 3,\n",
            "        2, 1, 3, 7, 1, 8, 7, 7]), tensor([1, 8, 9, 3, 7, 7, 7, 1, 7, 3, 4, 6, 2, 4, 5, 2, 8, 9, 6, 8, 0, 0, 7, 7,\n",
            "        5, 0, 1, 9, 3, 6, 4, 9]), tensor([2, 2, 6, 9, 1, 0, 5, 0, 9, 2, 8, 2, 3, 6, 0, 7, 4, 0, 7, 4, 1, 7, 8, 0,\n",
            "        4, 6, 4, 4, 1, 0, 6, 9]), tensor([4, 9, 4, 5, 2, 3, 3, 8, 8, 2, 0, 7, 2, 4, 0, 4, 1, 6, 8, 1, 7, 7, 2, 6,\n",
            "        3, 1, 2, 7, 2, 6, 0, 3]), tensor([4, 7, 2, 6, 3, 2, 3, 0, 9, 7, 3, 5, 4, 9, 6, 4, 5, 0, 6, 8, 4, 0, 4, 4,\n",
            "        0, 6, 1, 6, 4, 6, 7, 1]), tensor([0, 6, 3, 0, 1, 5, 4, 3, 8, 3, 3, 1, 7, 2, 9, 8, 8, 4, 5, 5, 6, 7, 3, 9,\n",
            "        1, 0, 5, 3, 7, 2, 1, 1]), tensor([8, 6, 2, 0, 5, 9, 6, 3, 8, 1, 6, 4, 6, 2, 2, 8, 3, 4, 2, 3, 9, 3, 7, 9,\n",
            "        5, 7, 2, 1, 5, 8, 8, 2]), tensor([2, 2, 6, 3, 1, 6, 4, 0, 3, 9, 8, 4, 0, 8, 4, 3, 9, 7, 1, 1, 7, 5, 1, 9,\n",
            "        2, 4, 2, 3, 8, 6, 7, 1]), tensor([3, 0, 7, 3, 5, 8, 1, 4, 2, 3, 4, 6, 8, 8, 6, 6, 1, 8, 9, 3, 0, 6, 6, 2,\n",
            "        9, 7, 3, 7, 0, 1, 2, 5]), tensor([9, 6, 0, 5, 0, 5, 4, 7, 4, 6, 2, 8, 6, 6, 9, 3, 0, 5, 8, 1, 1, 2, 6, 6,\n",
            "        4, 7, 4, 2, 3, 3, 7, 7]), tensor([4, 4, 3, 1, 8, 1, 5, 2, 0, 6, 7, 9, 3, 2, 7, 1, 7, 4, 1, 6, 2, 6, 6, 7,\n",
            "        6, 4, 9, 3, 2, 5, 0, 8]), tensor([6, 2, 6, 7, 4, 2, 1, 1, 0, 3, 5, 5, 2, 6, 4, 1, 8, 0, 3, 4, 3, 4, 2, 7,\n",
            "        6, 3, 9, 6, 2, 6, 6, 4]), tensor([5, 4, 9, 8, 1, 6, 3, 6, 4, 9, 4, 3, 5, 1, 2, 6, 0, 1, 1, 0, 2, 6, 5, 5,\n",
            "        6, 1, 2, 4, 3, 7, 2, 1]), tensor([1, 7, 7, 8, 7, 6, 5, 3, 7, 2, 0, 9, 4, 1, 6, 2, 2, 5, 8, 5, 2, 5, 8, 4,\n",
            "        6, 9, 0, 8, 1, 3, 8, 2]), tensor([8, 2, 0, 0, 3, 8, 7, 8, 2, 2, 3, 6, 0, 4, 5, 4, 4, 3, 1, 9, 7, 0, 6, 6,\n",
            "        1, 4, 2, 7, 7, 1, 8, 3]), tensor([0, 5, 9, 8, 7, 2, 7, 9, 7, 2, 2, 6, 6, 3, 3, 9, 1, 1, 4, 8, 0, 9, 5, 5,\n",
            "        4, 8, 8, 3, 6, 3, 6, 4]), tensor([6, 2, 5, 9, 2, 3, 8, 4, 2, 8, 3, 6, 6, 6, 3, 0, 1, 8, 4, 1, 5, 8, 1, 5,\n",
            "        8, 6, 7, 7, 7, 5, 6, 9]), tensor([5, 3, 6, 7, 8, 4, 5, 1, 6, 6, 2, 4, 3, 7, 7, 7, 7, 2, 5, 8, 5, 8, 5, 3,\n",
            "        0, 9, 7, 2, 0, 6, 8, 1]), tensor([0, 5, 3, 5, 6, 5, 4, 9, 0, 0, 4, 0, 2, 7, 8, 1, 3, 8, 1, 5, 3, 6, 1, 1,\n",
            "        6, 6, 9, 8, 2, 8, 2, 7]), tensor([7, 1, 3, 0, 3, 0, 7, 8, 7, 6, 5, 2, 6, 7, 5, 5, 6, 9, 7, 3, 2, 4, 8, 3,\n",
            "        9, 5, 7, 6, 2, 2, 7, 3]), tensor([8, 5, 1, 8, 9, 2, 2, 3, 2, 2, 7, 4, 0, 6, 4, 0, 5, 7, 9, 2, 2, 8, 4, 6,\n",
            "        0, 6, 3, 3, 1, 5, 4, 7]), tensor([5, 3, 7, 2, 2, 3, 5, 1, 1, 2, 7, 3, 8, 8, 7, 5, 6, 9, 5, 5, 4, 0, 7, 1,\n",
            "        4, 6, 0, 9, 9, 6, 6, 8]), tensor([0, 5, 7, 8, 2, 2, 7, 6, 6, 2, 8, 1, 6, 4, 8, 0, 7, 5, 8, 9, 7, 5, 5, 6,\n",
            "        7, 6, 3, 2, 0, 3, 4, 2]), tensor([0, 8, 9, 4, 5, 4, 4, 1, 2, 8, 7, 0, 5, 6, 2, 5, 6, 3, 8, 6, 8, 7, 2, 7,\n",
            "        2, 3, 4, 7, 1, 6, 3, 4]), tensor([2, 4, 3, 9, 9, 6, 8, 0, 4, 0, 6, 1, 9, 3, 7, 6, 8, 2, 9, 4, 7, 9, 1, 5,\n",
            "        8, 1, 3, 6, 2, 4, 8, 3]), tensor([3, 3, 0, 0, 0, 3, 3, 1, 4, 8, 4, 9, 3, 0, 0, 5, 8, 8, 8, 6, 1, 4, 8, 9,\n",
            "        8, 5, 8, 9, 6, 7, 2, 7]), tensor([3, 5, 5, 8, 3, 2, 8, 5, 9, 9, 4, 0, 4, 7, 1, 8, 8, 8, 7, 2, 0, 9, 7, 9,\n",
            "        6, 9, 4, 1, 4, 7, 2, 5]), tensor([2, 6, 2, 9, 0, 7, 1, 9, 7, 2, 5, 3, 8, 4, 9, 3, 7, 5, 7, 5, 1, 3, 3, 6,\n",
            "        0, 7, 5, 3, 5, 5, 8, 7]), tensor([9, 4, 6, 5, 5, 3, 4, 8, 3, 0, 9, 2, 3, 2, 2, 9, 4, 6, 9, 1, 4, 8, 1, 4,\n",
            "        9, 8, 2, 6, 7, 2, 0, 2]), tensor([6, 3, 6, 3, 0, 5, 2, 3, 2, 8, 0, 0, 7, 4, 6, 4, 8, 3, 5, 1, 3, 7, 1, 2,\n",
            "        9, 3, 7, 4, 2, 0, 2, 5]), tensor([6, 3, 5, 6, 5, 1, 7, 9, 4, 6, 7, 3, 0, 2, 8, 1, 0, 9, 9, 7, 8, 4, 6, 9,\n",
            "        7, 7, 5, 8, 6, 7, 5, 3]), tensor([5, 5, 6, 8, 9, 7, 2, 1, 4, 7, 1, 3, 6, 3, 4, 2, 9, 4, 7, 7, 6, 5, 0, 8,\n",
            "        8, 6, 8, 5, 6, 0, 7, 3]), tensor([6, 6, 4, 5, 2, 0, 7, 7, 7, 1, 5, 2, 4, 8, 5, 4, 4, 8, 7, 7, 6, 7, 1, 6,\n",
            "        9, 5, 3, 9, 3, 5, 0, 7]), tensor([4, 2, 6, 1, 6, 5, 9, 3, 2, 8, 5, 7, 3, 1, 4, 6, 8, 1, 6, 5, 6, 9, 3, 3,\n",
            "        6, 6, 4, 2, 0, 6, 4, 2]), tensor([3, 6, 5, 9, 1, 1, 9, 4, 7, 0, 3, 1, 0, 0, 7, 7, 0, 7, 8, 6, 5, 6, 4, 3,\n",
            "        8, 9, 7, 2, 9, 5, 3, 7]), tensor([2, 4, 1, 9, 7, 8, 1, 3, 7, 3, 6, 7, 8, 6, 5, 6, 7, 9, 9, 7, 0, 4, 2, 3,\n",
            "        4, 0, 7, 5, 3, 9, 2, 8]), tensor([8, 6, 0, 4, 1, 9, 3, 3, 5, 3, 7, 5, 9, 0, 8, 7, 5, 9, 8, 6, 0, 7, 3, 8,\n",
            "        6, 2, 0, 7, 4, 8, 1, 9]), tensor([2, 6, 6, 4, 8, 8, 7, 7, 3, 9, 3, 9, 6, 8, 2, 6, 9, 0, 3, 2, 5, 7, 0, 4,\n",
            "        6, 4, 1, 3, 1, 8, 7, 8]), tensor([8, 9, 7, 0, 5, 5, 3, 6, 0, 4, 0, 3, 6, 8, 8, 8, 0, 2, 3, 2, 8, 6, 1, 4,\n",
            "        1, 1, 6, 3, 2, 2, 8, 0]), tensor([0, 4, 1, 3, 2, 5, 0, 6, 7, 5, 9, 2, 5, 0, 9, 9, 8, 4, 2, 3, 2, 0, 9, 6,\n",
            "        2, 4, 3, 8, 3, 6, 6, 5]), tensor([6, 4, 7, 3, 7, 8, 8, 2, 4, 8, 8, 0, 1, 5, 0, 9, 8, 7, 6, 0, 3, 6, 3, 0,\n",
            "        7, 3, 9, 9, 1, 5, 9, 4]), tensor([1, 7, 6, 1, 0, 5, 3, 8, 6, 4, 1, 7, 0, 5, 0, 4, 1, 7, 1, 7, 9, 4, 3, 9,\n",
            "        2, 2, 5, 3, 5, 8, 8, 4]), tensor([4, 7, 7, 3, 6, 0, 5, 5, 3, 6, 2, 5, 6, 8, 5, 6, 9, 1, 3, 1, 4, 5, 9, 3,\n",
            "        7, 0, 3, 5, 6, 1, 5, 8]), tensor([5, 4, 6, 9, 1, 9, 1, 7, 1, 8, 0, 3, 4, 0, 2, 0, 3, 3, 8, 8, 0, 3, 4, 8,\n",
            "        1, 1, 3, 3, 2, 2, 1, 8]), tensor([0, 2, 0, 2, 4, 2, 3, 9, 2, 3, 0, 4, 5, 7, 1, 6, 1, 0, 0, 0, 8, 5, 1, 0,\n",
            "        5, 4, 8, 1, 7, 1, 6, 4]), tensor([7, 4, 6, 1, 5, 6, 3, 5, 8, 7, 7, 7, 2, 7, 5, 6, 4, 2, 0, 6, 6, 9, 9, 5,\n",
            "        8, 0, 4, 4, 1, 3, 7, 3]), tensor([6, 0, 9, 8, 5, 3, 0, 7, 1, 9, 7, 8, 4, 6, 9, 9, 1, 2, 6, 3, 2, 4, 5, 1,\n",
            "        0, 2, 8, 3, 4, 8, 3, 4]), tensor([0, 0, 3, 6, 7, 4, 4, 1, 7, 3, 6, 7, 9, 9, 1, 8, 5, 9, 1, 4, 6, 1, 2, 8,\n",
            "        3, 5, 7, 8, 0, 6, 2, 7]), tensor([2, 7, 5, 0, 8, 7, 8, 1, 4, 5, 2, 1, 5, 9, 9, 4, 4, 2, 1, 6, 0, 8, 7, 6,\n",
            "        2, 7, 5, 2, 7, 0, 3, 4]), tensor([4, 8, 4, 0, 6, 7, 3, 7, 3, 6, 3, 8, 6, 6, 2, 3, 2, 6, 9, 8, 0, 7, 0, 8,\n",
            "        9, 0, 2, 1, 2, 5, 1, 3]), tensor([4, 7, 6, 4, 9, 9, 1, 4, 3, 1, 6, 8, 0, 3, 0, 0, 2, 0, 2, 3, 6, 7, 2, 3,\n",
            "        6, 0, 8, 5, 4, 0, 1, 0]), tensor([2, 2, 6, 7, 9, 6, 2, 4, 3, 6, 8, 7, 4, 4, 0, 3, 3, 5, 2, 5, 1, 5, 5, 1,\n",
            "        7, 5, 2, 1, 8, 8, 0, 9]), tensor([6, 6, 0, 3, 2, 1, 8, 3, 4, 2, 1, 2, 0, 3, 0, 8, 5, 7, 5, 0, 2, 6, 3, 9,\n",
            "        8, 2, 8, 1, 0, 2, 6, 2]), tensor([2, 3, 7, 5, 0, 6, 2, 0, 8, 2, 2, 1, 8, 4, 8, 2, 9, 2, 4, 8, 5, 2, 7, 3,\n",
            "        2, 2, 6, 0, 6, 8, 5, 4]), tensor([1, 5, 2, 8, 2, 9, 3, 6, 3, 6, 4, 2, 7, 7, 9, 6, 4, 9, 8, 3, 5, 8, 7, 7,\n",
            "        0, 7, 7, 0, 7, 7, 2, 9]), tensor([5, 4, 2, 2, 4, 8, 0, 1, 9, 8, 6, 6, 4, 4, 3, 8, 0, 7, 6, 4, 3, 8, 1, 3,\n",
            "        8, 7, 3, 6, 3, 2, 8, 8]), tensor([9, 1, 3, 2, 1, 4, 8, 6, 4, 6, 7, 3, 9, 2, 9, 0, 4, 6, 5, 7, 0, 8, 1, 7,\n",
            "        5, 4, 9, 5, 7, 3, 2, 0]), tensor([9, 8, 7, 3, 7, 7, 4, 7, 5, 8, 5, 2, 4, 6, 2, 3, 8, 9, 7, 1, 3, 4, 2, 9,\n",
            "        7, 1, 2, 2, 6, 0, 5, 5]), tensor([4, 5, 2, 8, 7, 4, 9, 9, 0, 4, 0, 1, 5, 5, 5, 6, 8, 1, 5, 0, 7, 7, 9, 8,\n",
            "        0, 1, 1, 4, 6, 6, 9, 3]), tensor([2, 4, 4, 8, 4, 5, 4, 9, 0, 2, 8, 4, 8, 6, 3, 6, 1, 4, 3, 3, 8, 4, 9, 9,\n",
            "        0, 7, 9, 5, 3, 1, 7, 2]), tensor([8, 4, 7, 0, 1, 6, 0, 5, 2, 1, 9, 3, 6, 8, 1, 8, 4, 2, 5, 6, 9, 6, 1, 2,\n",
            "        0, 7, 9, 0, 1, 3, 7, 5]), tensor([1, 2, 1, 1, 3, 8, 3, 9, 5, 4, 6, 3, 7, 7, 7, 2, 3, 9, 1, 9, 2, 6, 0, 8,\n",
            "        6, 2, 7, 7, 0, 3, 4, 9]), tensor([6, 4, 0, 2, 7, 9, 6, 3, 3, 2, 0, 8, 8, 7, 3, 2, 7, 5, 7, 6, 1, 8, 1, 4,\n",
            "        9, 8, 9, 3, 1, 0, 3, 0]), tensor([3, 0, 6, 6, 1, 9, 7, 1, 2, 2, 5, 3, 4, 1, 7, 6, 7, 6, 2, 8, 8, 1, 4, 9,\n",
            "        7, 6, 0, 4, 9, 3, 9, 8]), tensor([5, 3, 8, 4, 7, 1, 4, 1, 9, 6, 8, 3, 2, 4, 6, 1, 1, 5, 8, 6, 1, 6, 2, 9,\n",
            "        0, 9, 5, 3, 5, 0, 6, 5]), tensor([6, 8, 3, 8, 0, 2, 9, 9, 1, 5, 3, 2, 6, 5, 3, 6, 3, 6, 7, 4, 0, 4, 1, 9,\n",
            "        5, 1, 7, 5, 5, 5, 9, 4]), tensor([8, 2, 6, 6, 4, 6, 4, 1, 1, 4, 2, 8, 6, 9, 0, 5, 8, 1, 6, 2, 3, 2, 4, 8,\n",
            "        6, 6, 9, 3, 6, 9, 7, 2]), tensor([2, 2, 6, 6, 9, 6, 1, 4, 7, 7, 9, 7, 3, 6, 7, 2, 7, 3, 0, 2, 0, 9, 4, 3,\n",
            "        3, 1, 9, 5, 8, 2, 3, 5]), tensor([0, 6, 4, 5, 2, 3, 5, 2, 7, 7, 6, 0, 9, 7, 1, 2, 2, 5, 3, 0, 6, 1, 3, 0,\n",
            "        5, 2, 8, 7, 7, 2, 0, 8]), tensor([3, 5, 2, 4, 9, 8, 9, 9, 0, 1, 7, 5, 0, 1, 5, 6, 3, 3, 3, 4, 4, 3, 6, 7,\n",
            "        8, 6, 9, 6, 3, 6, 4, 2]), tensor([9, 3, 5, 7, 3, 9, 8, 6, 6, 6, 2, 3, 1, 0, 7, 5, 0, 6, 4, 1, 1, 4, 9, 2,\n",
            "        3, 5, 9, 0, 4, 4, 4, 8]), tensor([9, 9, 2, 6, 9, 8, 3, 7, 3, 1, 4, 5, 0, 1, 8, 5, 8, 4, 6, 7, 8, 9, 2, 4,\n",
            "        6, 4, 2, 2, 4, 7, 9, 1]), tensor([9, 7, 4, 5, 6, 3, 2, 4, 1, 6, 1, 5, 8, 6, 4, 2, 9, 4, 7, 1, 3, 0, 2, 7,\n",
            "        7, 1, 9, 5, 7, 3, 8, 7]), tensor([5, 9, 7, 8, 2, 1, 0, 8, 0, 2, 6, 7, 9, 2, 2, 5, 2, 3, 2, 1, 3, 7, 0, 5,\n",
            "        5, 4, 9, 8, 9, 3, 5, 4]), tensor([6, 0, 5, 5, 8, 4, 8, 8, 7, 4, 9, 4, 9, 6, 9, 7, 3, 9, 7, 3, 2, 6, 2, 8,\n",
            "        7, 9, 2, 0, 2, 4, 1, 0]), tensor([3, 8, 6, 8, 4, 4, 2, 3, 5, 7, 7, 8, 5, 6, 3, 2, 1, 8, 3, 6, 5, 4, 2, 3,\n",
            "        0, 8, 3, 3, 2, 9, 0, 9]), tensor([7, 0, 1, 8, 3, 6, 3, 8, 6, 8, 5, 4, 3, 4, 1, 9, 3, 5, 0, 4, 2, 3, 1, 5,\n",
            "        3, 2, 8, 5, 7, 8, 0, 1]), tensor([1, 0, 6, 2, 5, 9, 6, 7, 2, 3, 6, 4, 6, 3, 3, 9, 4, 7, 0, 8, 6, 5, 6, 2,\n",
            "        0, 1, 3, 9, 4, 2, 5, 6]), tensor([5, 3, 2, 5, 6, 0, 6, 0, 6, 9, 1, 3, 4, 2, 5, 8, 6, 6, 1, 4, 9, 7, 2, 4,\n",
            "        7, 5, 7, 1, 4, 8, 7, 9]), tensor([1, 7, 0, 2, 9, 2, 5, 6, 7, 8, 4, 5, 2, 7, 4, 1, 4, 5, 9, 6, 5, 7, 7, 3,\n",
            "        8, 1, 9, 6, 1, 3, 0, 7]), tensor([6, 9, 5, 1, 3, 6, 9, 3, 4, 4, 5, 3, 4, 7, 9, 1, 2, 2, 2, 4, 3, 8, 7, 9,\n",
            "        9, 3, 8, 8, 9, 0, 7, 6]), tensor([4, 3, 8, 6, 4, 2, 0, 1, 4, 0, 2, 1, 5, 4, 6, 6, 0, 3, 4, 5, 6, 8, 7, 6,\n",
            "        0, 3, 1, 8, 4, 8, 9, 9]), tensor([5, 5, 8, 2, 5, 4, 4, 2, 5, 6, 9, 2, 7, 1, 0, 2, 4, 6, 9, 8, 6, 2, 9, 1,\n",
            "        9, 4, 7, 3, 5, 2, 3, 4]), tensor([2, 1, 0, 2, 4, 3, 7, 8, 3, 9, 5, 9, 0, 4, 3, 4, 5, 5, 5, 7, 6, 1, 3, 3,\n",
            "        7, 0, 7, 7, 6, 8, 3, 5]), tensor([5, 8, 1, 9, 4, 2, 4, 2, 3, 6, 0, 3, 6, 5, 0, 3, 1, 1, 7, 5, 2, 5, 9, 0,\n",
            "        8, 3, 4, 4, 2, 7, 0, 7]), tensor([3, 3, 2, 3, 5, 1, 6, 2, 3, 3, 0, 6, 6, 4, 8, 7, 0, 3, 0, 4, 7, 3, 3, 6,\n",
            "        0, 2, 4, 4, 1, 8, 5, 9]), tensor([3, 2, 6, 4, 2, 5, 3, 3, 5, 3, 5, 8, 3, 9, 7, 3, 0, 6, 1, 6, 1, 6, 7, 7,\n",
            "        4, 8, 9, 6, 1, 5, 4, 9]), tensor([4, 7, 9, 9, 9, 0, 1, 0, 9, 9, 5, 1, 7, 2, 9, 3, 5, 6, 8, 1, 7, 4, 3, 8,\n",
            "        4, 7, 0, 8, 9, 6, 8, 4]), tensor([9, 6, 4, 5, 9, 0, 0, 5, 1, 1, 7, 4, 4, 7, 1, 5, 8, 3, 7, 2, 7, 1, 8, 8,\n",
            "        8, 7, 8, 6, 0, 1, 7, 9]), tensor([8, 5, 6, 0, 6, 2, 3, 2, 3, 9, 9, 1, 9, 5, 8, 4, 4, 2, 4, 2, 7, 2, 8, 3,\n",
            "        0, 7, 8, 3, 3, 9, 9, 5]), tensor([9, 2, 6, 7, 7, 0, 7, 2, 7, 9, 2, 3, 9, 0, 3, 0, 3, 1, 4, 9, 1, 2, 8, 5,\n",
            "        1, 7, 9, 0, 3, 3, 0, 9]), tensor([3, 4, 3, 0, 0, 6, 9, 7, 3, 9, 8, 5, 6, 8, 5, 7, 5, 2, 4, 8, 5, 2, 2, 5,\n",
            "        4, 2, 7, 1, 6, 6, 3, 8]), tensor([5, 6, 4, 6, 7, 8, 5, 1, 8, 2, 0, 4, 2, 4, 1, 8, 0, 7, 2, 7, 3, 2, 9, 7,\n",
            "        4, 4, 6, 1, 7, 1, 4, 7]), tensor([6, 1, 7, 3, 0, 3, 8, 6, 8, 0, 4, 1, 7, 9, 6, 2, 9, 2, 6, 7, 1, 7, 5, 2,\n",
            "        9, 8, 2, 4, 0, 3, 3, 2]), tensor([2, 8, 1, 0, 8, 1, 8, 1, 0, 1, 2, 7, 3, 7, 7, 3, 3, 9, 9, 0, 6, 2, 5, 8,\n",
            "        9, 3, 3, 7, 4, 1, 6, 9]), tensor([4, 3, 2, 6, 1, 8, 1, 3, 4, 0, 2, 1, 9, 0, 5, 4, 5, 3, 6, 4, 1, 2, 0, 7,\n",
            "        3, 6, 2, 3, 4, 4, 5, 2]), tensor([9, 6, 8, 0, 4, 6, 6, 1, 7, 5, 3, 3, 3, 2, 0, 3, 8, 2, 6, 2, 5, 1, 4, 2,\n",
            "        2, 1, 9, 3, 4, 6, 9, 7]), tensor([8, 0, 6, 3, 6, 0, 8, 1, 2, 3, 3, 1, 9, 5, 3, 2, 4, 7, 1, 9, 2, 9, 6, 9,\n",
            "        2, 4, 8, 6, 9, 4, 7, 0]), tensor([3, 1, 3, 6, 3, 4, 1, 2, 6, 3, 6, 7, 7, 8, 3, 6, 9, 5, 6, 0, 9, 5, 4, 3,\n",
            "        8, 5, 3, 8, 3, 7, 9, 0]), tensor([2, 5, 1, 0, 5, 6, 3, 9, 7, 9, 6, 0, 7, 1, 2, 0, 8, 6, 2, 2, 7, 8, 6, 6,\n",
            "        4, 6, 9, 7, 3, 4, 5, 4]), tensor([5, 1, 9, 5, 0, 5, 6, 4, 1, 7, 9, 6, 3, 3, 4, 9, 1, 3, 3, 9, 8, 6, 8, 2,\n",
            "        2, 1, 4, 0, 6, 7, 8, 0]), tensor([0, 1, 2, 3, 0, 9, 8, 1, 3, 7, 6, 7, 9, 7, 4, 2, 3, 6, 8, 7, 5, 5, 1, 6,\n",
            "        8, 5, 7, 9, 9, 3, 4, 2]), tensor([2, 7, 9, 4, 6, 7, 5, 4, 7, 6, 1, 4, 6, 2, 0, 9, 0, 0, 5, 1, 1, 7, 8, 3,\n",
            "        2, 6, 2, 0, 6, 4, 9, 5]), tensor([2, 2, 6, 4, 6, 1, 5, 2, 7, 8, 6, 7, 7, 0, 8, 4, 3, 6, 9, 1, 2, 1, 7, 4,\n",
            "        3, 6, 9, 9, 2, 6, 4, 3]), tensor([0, 5, 7, 5, 2, 7, 8, 9, 9, 2, 7, 0, 7, 7, 3, 8, 7, 4, 4, 9, 0, 1, 8, 7,\n",
            "        5, 4, 5, 3, 7, 4, 6, 5]), tensor([0, 6, 7, 9, 0, 9, 5, 9, 4, 4, 1, 7, 8, 3, 5, 1, 0, 6, 5, 0, 2, 3, 7, 1,\n",
            "        0, 1, 0, 7, 7, 4, 3, 4]), tensor([7, 0, 0, 5, 1, 4, 8, 1, 5, 2, 7, 3, 2, 3, 2, 7, 8, 0, 1, 6, 9, 5, 8, 6,\n",
            "        7, 1, 5, 0, 9, 7, 1, 0]), tensor([6, 5, 7, 8, 4, 3, 1, 9, 0, 2, 9, 1, 3, 4, 6, 3, 3, 6, 2, 3, 8, 6, 2, 9,\n",
            "        5, 6, 1, 8, 6, 4, 3, 4]), tensor([2, 9, 4, 3, 7, 9, 6, 3, 5, 4, 5, 9, 8, 5, 3, 0, 1, 2, 4, 6, 1, 9, 6, 4,\n",
            "        6, 5, 5, 4, 6, 2, 0, 1]), tensor([4, 9, 9, 7, 0, 1, 2, 6, 0, 4, 6, 2, 5, 9, 4, 8, 4, 6, 1, 5, 9, 4, 1, 8,\n",
            "        9, 3, 1, 7, 1, 3, 3, 9]), tensor([1, 3, 8, 9, 7, 6, 9, 4, 0, 7, 8, 5, 5, 5, 3, 8, 9, 4, 7, 4, 4, 9, 2, 0,\n",
            "        1, 5, 0, 7, 3, 6, 0, 7]), tensor([1, 1, 8, 2, 8, 7, 2, 0, 8, 2, 6, 0, 5, 1, 6, 8, 2, 3, 7, 4, 6, 9, 7, 6,\n",
            "        1, 3, 9, 6, 4, 0, 3, 7]), tensor([8, 1, 1, 8, 8, 3, 5, 4, 6, 6, 1, 5, 2, 3, 6, 2, 5, 9, 9, 4, 2, 4, 1, 8,\n",
            "        9, 0, 8, 7, 3, 3, 8, 8]), tensor([1, 8, 2, 7, 6, 4, 8, 9, 2, 5, 3, 4, 6, 1, 1, 0, 4, 1, 6, 7, 0, 5, 9, 1,\n",
            "        5, 0, 9, 4, 2, 1, 7, 2]), tensor([9, 8, 8, 9, 5, 5, 3, 8, 2, 0, 3, 6, 1, 1, 9, 0, 9, 7, 5, 3, 2, 9, 5, 5,\n",
            "        4, 2, 9, 9, 3, 0, 6, 4]), tensor([1, 7, 4, 7, 2, 8, 5, 8, 6, 0, 1, 3, 2, 2, 3, 6, 6, 0, 2, 8, 3, 2, 8, 6,\n",
            "        1, 8, 4, 5, 4, 2, 3, 9]), tensor([0, 4, 3, 2, 5, 4, 2, 7, 3, 7, 3, 3, 6, 9, 4, 8, 5, 6, 0, 3, 6, 7, 4, 8,\n",
            "        3, 1, 1, 9, 7, 5, 4, 2]), tensor([1, 6, 4, 5, 7, 2, 5, 8, 8, 3, 0, 9, 6, 4, 6, 3, 8, 4, 7, 4, 8, 8, 8, 2,\n",
            "        8, 4, 1, 3, 7, 2, 6, 2]), tensor([2, 3, 4, 3, 0, 8, 4, 5, 1, 4, 8, 8, 2, 1, 4, 1, 4, 9, 6, 7, 9, 6, 8, 0,\n",
            "        3, 4, 3, 8, 4, 7, 5, 4]), tensor([1, 1, 2, 0, 5, 5, 0, 1, 6, 5, 2, 8, 9, 7, 9, 1, 1, 3, 3, 5, 6, 7, 4, 9,\n",
            "        4, 9, 3, 6, 6, 2, 8, 5]), tensor([2, 5, 9, 8, 3, 8, 1, 3, 1, 3, 5, 2, 5, 4, 4, 9, 2, 7, 1, 4, 8, 3, 7, 7,\n",
            "        6, 7, 9, 2, 7, 7, 0, 1]), tensor([6, 1, 2, 8, 2, 4, 7, 2, 7, 1, 8, 7, 5, 1, 3, 1, 0, 3, 6, 5, 3, 8, 6, 3,\n",
            "        4, 9, 6, 1, 5, 3, 0, 7]), tensor([6, 3, 4, 5, 3, 6, 6, 2, 8, 3, 9, 8, 0, 7, 2, 4, 2, 5, 1, 9, 8, 3, 8, 7,\n",
            "        1, 8, 3, 2, 0, 9, 2, 4]), tensor([3, 4, 6, 1, 3, 5, 2, 9, 7, 5, 3, 9, 9, 5, 6, 4, 8, 0, 7, 6, 8, 6, 2, 1,\n",
            "        9, 7, 7, 3, 8, 6, 3, 0]), tensor([9, 8, 5, 6, 4, 8, 1, 5, 5, 9, 0, 1, 6, 1, 3, 2, 4, 4, 4, 1, 7, 4, 2, 2,\n",
            "        6, 1, 8, 2, 4, 6, 3, 0]), tensor([8, 8, 4, 6, 2, 0, 7, 0, 8, 9, 1, 4, 6, 7, 6, 8, 1, 8, 2, 6, 6, 7, 5, 7,\n",
            "        9, 9, 3, 9, 4, 4, 2, 6]), tensor([1, 4, 8, 4, 4, 5, 2, 2, 2, 9, 1, 8, 0, 6, 2, 6, 0, 4, 6, 6, 1, 3, 6, 3,\n",
            "        4, 1, 5, 8, 1, 0, 7, 6]), tensor([5, 0, 3, 2, 8, 5, 8, 7, 8, 3, 5, 9, 5, 5, 1, 2, 4, 7, 2, 9, 7, 8, 3, 7,\n",
            "        4, 6, 3, 8, 8, 4, 5, 3]), tensor([8, 1, 4, 2, 2, 7, 8, 9, 0, 2, 7, 9, 1, 5, 7, 8, 4, 3, 9, 5, 9, 3, 0, 8,\n",
            "        6, 1, 6, 1, 5, 8, 6, 0]), tensor([3, 8, 6, 9, 0, 0, 7, 6, 6, 6, 7, 4, 8, 8, 2, 6, 3, 6, 7, 1, 4, 7, 4, 2,\n",
            "        7, 1, 6, 5, 2, 3, 7, 9]), tensor([6, 6, 8, 2, 1, 1, 8, 8, 3, 7, 7, 7, 6, 7, 4, 3, 7, 3, 8, 9, 6, 2, 2, 4,\n",
            "        5, 7, 0, 2, 3, 9, 7, 7]), tensor([4, 6, 5, 8, 3, 1, 3, 5, 4, 9, 4, 3, 9, 7, 2, 0, 8, 6, 9, 1, 9, 9, 6, 7,\n",
            "        1, 4, 7, 0, 3, 8, 7, 2]), tensor([8, 5, 9, 3, 2, 0, 6, 9, 8, 5, 6, 1, 3, 7, 9, 1, 8, 9, 4, 0, 9, 7, 2, 8,\n",
            "        2, 1, 2, 7, 5, 4, 0, 8]), tensor([3, 4, 7, 2, 2, 6, 8, 5, 7, 9, 5, 7, 3, 2, 3, 7, 3, 4, 1, 5, 2, 9, 7, 4,\n",
            "        0, 2, 5, 8, 0, 7, 7, 2]), tensor([4, 0, 4, 8, 2, 0, 6, 9, 8, 9, 6, 5, 0, 6, 0, 2, 6, 3, 1, 8, 7, 4, 1, 9,\n",
            "        1, 2, 6, 5, 2, 3, 6, 0]), tensor([2, 6, 0, 7, 2, 1, 8, 2, 8, 7, 9, 4, 1, 4, 5, 7, 7, 3, 2, 5, 9, 3, 4, 7,\n",
            "        3, 2, 0, 9, 6, 7, 3, 9]), tensor([1, 2, 1, 9, 7, 2, 3, 3, 8, 1, 8, 3, 5, 0, 5, 3, 8, 5, 7, 6, 9, 0, 6, 8,\n",
            "        4, 2, 4, 3, 4, 3, 7, 8]), tensor([7, 1, 3, 7, 2, 9, 5, 5, 2, 4, 4, 5, 0, 8, 6, 3, 4, 0, 8, 8, 9, 6, 9, 1,\n",
            "        5, 1, 2, 1, 3, 2, 2, 2]), tensor([4, 8, 7, 5, 9, 2, 0, 5, 7, 0, 5, 6, 5, 3, 3, 2, 3, 7, 3, 3, 2, 9, 8, 1,\n",
            "        7, 3, 2, 6, 3, 7, 1, 8]), tensor([5, 7, 8, 0, 5, 3, 8, 5, 7, 7, 7, 6, 5, 2, 4, 1, 2, 3, 4, 1, 0, 3, 9, 3,\n",
            "        8, 2, 3, 7, 4, 9, 5, 7]), tensor([4, 8, 9, 8, 6, 8, 2, 7, 3, 8, 3, 0, 5, 9, 0, 9, 2, 6, 8, 5, 7, 1, 6, 8,\n",
            "        4, 0, 2, 3, 1, 1, 1, 7]), tensor([6, 2, 2, 5, 9, 8, 7, 5, 3, 4, 7, 9, 2, 0, 1, 1, 1, 4, 8, 6, 8, 0, 5, 5,\n",
            "        6, 7, 6, 8, 2, 3, 6, 2]), tensor([2, 2, 5, 7, 4, 9, 7, 2, 2, 2, 0, 7, 4, 5, 6, 3, 3, 1, 9, 8, 1, 8, 6, 6,\n",
            "        3, 9, 1, 9, 7, 6, 9, 6]), tensor([9, 3, 0, 4, 8, 3, 4, 2, 6, 9, 2, 1, 1, 0, 5, 6, 7, 0, 4, 1, 1, 7, 0, 0,\n",
            "        1, 9, 8, 7, 3, 5, 8, 1]), tensor([6, 6, 4, 6, 4, 6, 2, 3, 8, 9, 5, 8, 9, 3, 1, 7, 8, 9, 4, 1, 1, 7, 6, 7,\n",
            "        0, 0, 9, 6, 0, 2, 9, 2]), tensor([8, 5, 5, 9, 3, 3, 5, 7, 1, 3, 3, 3, 5, 6, 6, 4, 1, 1, 9, 1, 4, 0, 6, 2,\n",
            "        2, 6, 6, 0, 6, 5, 0, 3]), tensor([0, 5, 1, 1, 8, 4, 5, 3, 5, 1, 6, 6, 3, 6, 6, 7, 9, 6, 3, 8, 5, 4, 6, 9,\n",
            "        1, 9, 7, 7, 6, 2, 2, 7]), tensor([5, 6, 1, 5, 7, 7, 8, 2, 8, 3, 7, 6, 6, 2, 9, 9, 0, 2, 7, 3, 1, 0, 8, 2,\n",
            "        4, 4, 4, 7, 1, 8, 6, 0]), tensor([3, 4, 6, 6, 7, 8, 0, 3, 8, 3, 7, 6, 1, 5, 4, 5, 6, 8, 4, 2, 5, 9, 3, 6,\n",
            "        4, 7, 8, 5, 9, 5, 0, 0]), tensor([6, 9, 7, 2, 9, 2, 2, 2, 4, 6, 1, 6, 3, 9, 4, 0, 8, 8, 2, 6, 8, 2, 7, 6,\n",
            "        5, 6, 8, 6, 8, 8, 0, 2]), tensor([1, 1, 8, 7, 3, 2, 0, 5, 4, 3, 8, 8, 8, 9, 3, 0, 9, 4, 0, 3, 6, 4, 2, 4,\n",
            "        8, 5, 9, 4, 7, 1, 7, 0]), tensor([3, 0, 0, 2, 3, 9, 9, 7, 3, 0, 2, 2, 6, 6, 6, 5, 3, 4, 9, 8, 5, 8, 0, 4,\n",
            "        1, 4, 8, 7, 2, 6, 2, 3]), tensor([7, 6, 3, 5, 2, 5, 6, 7, 1, 2, 9, 8, 7, 6, 8, 8, 5, 5, 8, 4, 4, 6, 8, 3,\n",
            "        6, 4, 9, 6, 1, 0, 5, 1]), tensor([4, 0, 9, 2, 6, 3, 6, 7, 6, 6, 4, 3, 8, 5, 1, 8, 3, 4, 6, 5, 0, 0, 7, 8,\n",
            "        7, 4, 2, 2, 2, 9, 3, 5]), tensor([0, 9, 9, 0, 1, 3, 7, 1, 7, 6, 5, 2, 6, 9, 5, 7, 7, 4, 2, 8, 3, 1, 7, 8,\n",
            "        4, 4, 8, 0, 5, 5, 7, 1]), tensor([7, 6, 2, 1, 7, 1, 9, 0, 0, 0, 3, 2, 7, 3, 9, 3, 5, 4, 0, 6, 7, 7, 4, 2,\n",
            "        3, 8, 5, 8, 0, 0, 4, 1]), tensor([2, 9, 8, 8, 9, 0, 3, 6, 9, 5, 9, 3, 1, 0, 8, 4, 1, 4, 6, 9, 9, 8, 0, 7,\n",
            "        4, 0, 1, 9, 0, 3, 9, 0]), tensor([2, 3, 7, 3, 1, 6, 6, 8, 3, 4, 3, 3, 8, 3, 7, 1, 6, 3, 8, 4, 7, 9, 8, 0,\n",
            "        3, 0, 4, 5, 7, 6, 7, 2]), tensor([5, 0, 2, 3, 3, 3, 0, 0, 4, 4, 4, 4, 6, 8, 7, 6, 7, 4, 0, 2, 4, 1, 9, 5,\n",
            "        9, 9, 0, 5, 8, 2, 7, 3]), tensor([9, 5, 2, 8, 9, 5, 8, 6, 0, 3, 0, 6, 3, 7, 8, 0, 1, 2, 2, 6, 1, 1, 3, 2,\n",
            "        2, 5, 4, 3, 9, 3, 4, 2]), tensor([3, 7, 6, 9, 2, 1, 4, 7, 5, 5, 9, 2, 6, 9, 7, 9, 7, 4, 1, 8, 3, 3, 8, 0,\n",
            "        8, 7, 6, 7, 7, 9, 4, 4]), tensor([0, 3, 7, 2, 1, 5, 2, 0, 5, 8, 6, 7, 0, 1, 0, 5, 6, 2, 1, 4, 1, 8, 7, 9,\n",
            "        9, 7, 3, 2, 2, 4, 7, 6]), tensor([3, 9, 6, 3, 9, 5, 1, 6, 9, 0, 7, 4, 3, 5, 7, 2, 7, 6, 8, 7, 5, 4, 5, 9,\n",
            "        4, 3, 5, 0, 2, 7, 5, 3]), tensor([1, 9, 3, 7, 3, 0, 3, 4, 4, 2, 5, 9, 2, 1, 1, 9, 7, 9, 0, 1, 6, 8, 9, 2,\n",
            "        7, 3, 7, 8, 7, 7, 0, 8]), tensor([5, 6, 0, 7, 5, 2, 7, 7, 9, 7, 1, 0, 0, 8, 6, 4, 0, 2, 4, 5, 5, 0, 8, 3,\n",
            "        2, 2, 8, 6, 7, 1, 8, 7]), tensor([1, 0, 2, 0, 6, 7, 3, 7, 6, 8, 2, 3, 9, 4, 6, 3, 0, 8, 7, 3, 3, 0, 5, 6,\n",
            "        1, 5, 0, 9, 9, 1, 3, 0]), tensor([6, 1, 6, 6, 5, 7, 2, 2, 0, 9, 2, 6, 8, 2, 8, 6, 7, 7, 3, 3, 9, 5, 7, 6,\n",
            "        0, 9, 4, 5, 6, 7, 2, 9]), tensor([5, 0, 8, 7, 4, 9, 9, 6, 3, 6, 3, 0, 2, 7, 6, 4, 2, 4, 4, 1, 5, 7, 9, 7,\n",
            "        3, 9, 8, 2, 5, 1, 9, 6]), tensor([1, 0, 4, 8, 0, 5, 6, 9, 8, 8, 4, 3, 4, 1, 7, 5, 1, 4, 6, 7, 0, 3, 2, 8,\n",
            "        7, 8, 5, 5, 1, 1, 3, 2]), tensor([7, 9, 9, 1, 0, 6, 3, 6, 4, 4, 7, 1, 3, 0, 1, 5, 3, 4, 9, 2, 4, 2, 2, 6,\n",
            "        7, 7, 4, 7, 1, 4, 0, 8]), tensor([3, 3, 5, 6, 0, 8, 3, 0, 4, 0, 1, 8, 4, 3, 2, 9, 5, 4, 3, 5, 2, 1, 6, 4,\n",
            "        4, 5, 8, 6, 7, 3, 0, 6]), tensor([7, 4, 2, 3, 6, 8, 2, 6, 3, 8, 8, 1, 7, 8, 4, 8, 7, 7, 9, 9, 9, 2, 6, 9,\n",
            "        4, 0, 8, 8, 8, 0, 5, 6]), tensor([6, 6, 6, 6, 9, 9, 2, 3, 5, 4, 6, 1, 0, 8, 9, 5, 7, 3, 3, 2, 4, 3, 2, 8,\n",
            "        1, 8, 2, 2, 6, 9, 8, 5]), tensor([1, 2, 6, 0, 9, 6, 5, 5, 0, 7, 1, 6, 5, 8, 9, 7, 4, 9, 4, 3, 3, 2, 5, 0,\n",
            "        8, 0, 4, 6, 3, 0, 0, 0]), tensor([3, 3, 5, 9, 6, 7, 1, 5, 4, 1, 6, 1, 7, 9, 4, 0, 4, 5, 2, 9, 4, 9, 8, 8,\n",
            "        7, 6, 2, 0, 9, 3, 6, 7]), tensor([0, 2, 7, 6, 2, 1, 0, 5, 7, 3, 5, 9, 2, 3, 4, 8, 5, 8, 1, 9, 6, 7, 6, 7,\n",
            "        3, 6, 2, 5, 6, 8, 8, 6]), tensor([7, 4, 0, 5, 1, 5, 9, 6, 0, 9, 5, 8, 5, 7, 3, 9, 8, 3, 4, 0, 5, 7, 5, 1,\n",
            "        1, 5, 4, 1, 6, 5, 8, 2]), tensor([9, 6, 3, 3, 4, 6, 2, 4, 1, 1, 4, 7, 2, 5, 0, 2, 6, 8, 8, 6, 7, 7, 1, 2,\n",
            "        6, 4, 1, 6, 0, 2, 5, 8]), tensor([2, 4, 8, 3, 1, 5, 8, 4, 4, 0, 5, 6, 8, 0, 3, 2, 8, 5, 7, 5, 7, 0, 1, 1,\n",
            "        9, 7, 5, 6, 1, 9, 6, 3]), tensor([6, 9, 4, 0, 4, 9, 7, 6, 2, 2, 0, 5, 6, 6, 3, 7, 8, 6, 2, 6, 1, 1, 9, 9,\n",
            "        4, 5, 3, 4, 8, 5, 8, 6]), tensor([6, 1, 2, 3, 7, 6, 9, 0, 4, 8, 2, 3, 6, 9, 5, 5, 9, 4, 0, 4, 1, 1, 8, 9,\n",
            "        6, 4, 2, 3, 8, 0, 7, 1]), tensor([2, 2, 5, 3, 3, 7, 7, 1, 0, 1, 4, 1, 9, 0, 2, 1, 3, 0, 7, 3, 7, 2, 9, 0,\n",
            "        1, 8, 9, 2, 6, 6, 0, 9]), tensor([3, 6, 1, 2, 7, 6, 0, 5, 6, 8, 2, 5, 5, 3, 5, 9, 1, 8, 5, 3, 1, 6, 4, 3,\n",
            "        7, 3, 5, 4, 8, 6, 7, 1]), tensor([6, 3, 9, 8, 3, 8, 7, 7, 9, 7, 0, 9, 4, 0, 9, 6, 1, 9, 8, 6, 3, 7, 6, 9,\n",
            "        5, 4, 7, 1, 2, 1, 2, 6]), tensor([9, 2, 0, 5, 0, 0, 5, 5, 4, 6, 9, 9, 1, 6, 7, 7, 7, 4, 5, 1, 2, 0, 6, 3,\n",
            "        8, 9, 8, 4, 1, 0, 8, 3]), tensor([9, 8, 8, 7, 8, 3, 6, 0, 7, 4, 8, 6, 9, 9, 4, 7, 7, 2, 2, 1, 5, 3, 4, 0,\n",
            "        5, 5, 0, 8, 4, 7, 8, 9]), tensor([4, 2, 1, 7, 4, 4, 4, 7, 4, 3, 6, 0, 7, 7, 8, 0, 9, 1, 2, 6, 2, 9, 7, 1,\n",
            "        9, 7, 3, 3, 1, 4, 3, 5]), tensor([3, 3, 9, 4, 1, 4, 6, 2, 7, 5, 4, 6, 9, 9, 8, 3, 8, 1, 2, 2, 9, 5, 6, 1,\n",
            "        4, 6, 0, 1, 2, 0, 7, 6]), tensor([8, 8, 2, 8, 4, 5, 0, 0, 1, 7, 9, 7, 3, 9, 6, 0, 2, 8, 7, 1, 6, 8, 7, 6,\n",
            "        8, 6, 8, 2, 8, 0, 1, 5]), tensor([3, 8, 1, 7, 4, 9, 3, 7, 9, 3, 1, 8, 3, 0, 9, 3, 6, 2, 4, 2, 7, 6, 0, 9,\n",
            "        8, 8, 1, 5, 7, 7, 1, 7]), tensor([5, 4, 4, 0, 7, 8, 7, 3, 7, 0, 2, 9, 5, 9, 6, 9, 2, 6, 3, 2, 0, 4, 7, 8,\n",
            "        6, 4, 3, 1, 9, 3, 8, 3]), tensor([9, 7, 1, 7, 1, 6, 4, 8, 5, 6, 0, 6, 4, 1, 1, 2, 9, 0, 2, 2, 1, 3, 2, 7,\n",
            "        6, 1, 8, 5, 7, 0, 0, 5]), tensor([0, 4, 6, 2, 2, 5, 6, 1, 8, 2, 1, 5, 3, 6, 8, 9, 5, 0, 1, 2, 1, 2, 9, 6,\n",
            "        3, 1, 1, 4, 7, 8, 3, 6]), tensor([9, 6, 2, 8, 3, 8, 4, 9, 4, 7, 7, 0, 3, 6, 4, 5, 7, 3, 7, 4, 6, 0, 9, 3,\n",
            "        0, 5, 4, 1, 2, 1, 8, 1]), tensor([9, 4, 8, 9, 9, 3, 3, 7, 0, 0, 6, 1, 6, 4, 6, 4, 2, 2, 7, 0, 6, 3, 4, 0,\n",
            "        0, 1, 3, 6, 6, 5, 7, 9]), tensor([6, 6, 3, 7, 5, 1, 6, 7, 7, 5, 8, 0, 9, 1, 2, 1, 4, 9, 1, 2, 5, 2, 3, 0,\n",
            "        7, 1, 2, 7, 9, 3, 7, 4]), tensor([4, 6, 6, 7, 2, 7, 3, 3, 7, 8, 8, 7, 0, 1, 4, 0, 9, 7, 9, 9, 1, 2, 0, 4,\n",
            "        7, 4, 3, 3, 1, 7, 5, 5]), tensor([6, 5, 2, 0, 3, 1, 4, 7, 5, 3, 2, 7, 8, 4, 7, 4, 0, 8, 3, 0, 1, 7, 9, 2,\n",
            "        9, 1, 6, 6, 5, 1, 0, 6]), tensor([3, 7, 3, 1, 8, 2, 5, 9, 5, 8, 1, 0, 9, 6, 6, 6, 3, 1, 4, 7, 3, 0, 7, 9,\n",
            "        2, 9, 5, 2, 6, 6, 7, 2]), tensor([0, 8, 3, 8, 1, 1, 2, 4, 8, 1, 0, 8, 1, 8, 5, 3, 2, 7, 0, 2, 4, 9, 4, 2,\n",
            "        4, 9, 9, 6, 9, 9, 6, 7]), tensor([3, 2, 3, 3, 9, 6, 7, 7, 8, 1, 1, 0, 6, 5, 7, 9, 4, 7, 4, 7, 0, 2, 2, 9,\n",
            "        7, 7, 7, 5, 6, 1, 2, 3]), tensor([4, 6, 2, 0, 9, 2, 7, 8, 4, 2, 8, 7, 7, 1, 6, 7, 9, 9, 0, 1, 5, 1, 1, 3,\n",
            "        6, 7, 5, 8, 3, 3, 8, 5]), tensor([2, 4, 3, 6, 8, 0, 9, 0, 6, 9, 0, 1, 2, 5, 1, 8, 2, 3, 8, 1, 7, 3, 9, 3,\n",
            "        8, 3, 5, 4, 1, 0, 6, 4]), tensor([2, 6, 8, 2, 2, 5, 5, 0, 2, 6, 9, 8, 6, 1, 0, 0, 4, 8, 3, 4, 7, 7, 5, 9,\n",
            "        2, 5, 3, 6, 9, 9, 4, 8]), tensor([5, 6, 9, 3, 3, 0, 2, 8, 3, 1, 9, 0, 3, 6, 7, 3, 8, 5, 6, 4, 6, 4, 1, 3,\n",
            "        9, 8, 8, 9, 3, 2, 6, 0]), tensor([5, 4, 5, 6, 8, 3, 2, 4, 8, 4, 1, 5, 0, 4, 3, 1, 9, 2, 8, 7, 8, 2, 3, 4,\n",
            "        2, 5, 6, 9, 0, 7, 1, 1]), tensor([7, 9, 0, 1, 6, 7, 5, 4, 6, 3, 3, 6, 1, 0, 0, 9, 9, 8, 4, 9, 6, 2, 5, 4,\n",
            "        7, 2, 6, 5, 6, 6, 9, 3]), tensor([7, 0, 6, 3, 5, 6, 4, 3, 4, 6, 9, 8, 8, 6, 2, 0, 6, 3, 7, 4, 2, 8, 1, 7,\n",
            "        2, 4, 9, 8, 6, 2, 0, 8]), tensor([7, 0, 5, 0, 6, 3, 1, 3, 0, 9, 5, 4, 3, 7, 6, 6, 2, 9, 0, 7, 6, 5, 6, 8,\n",
            "        2, 1, 0, 6, 6, 5, 9, 2]), tensor([5, 0, 2, 0, 7, 4, 6, 8, 3, 3, 2, 6, 3, 8, 9, 4, 0, 6, 8, 1, 8, 2, 5, 7,\n",
            "        0, 3, 6, 8, 1, 5, 9, 2]), tensor([2, 8, 9, 2, 1, 0, 5, 0, 2, 2, 8, 2, 2, 6, 7, 6, 7, 3, 7, 4, 9, 8, 8, 3,\n",
            "        9, 9, 0, 6, 2, 6, 3, 6]), tensor([4, 9, 2, 7, 6, 5, 6, 3, 1, 7, 8, 0, 4, 7, 3, 3, 8, 0, 0, 9, 2, 8, 5, 4,\n",
            "        9, 6, 3, 4, 2, 0, 1, 1]), tensor([7, 3, 8, 2, 1, 9, 3, 8, 4, 8, 2, 3, 7, 3, 6, 4, 9, 6, 6, 2, 9, 8, 0, 5,\n",
            "        7, 2, 4, 5, 2, 1, 0, 7]), tensor([2, 4, 2, 7, 2, 6, 3, 3, 1, 5, 4, 0, 3, 7, 7, 5, 6, 5, 6, 7, 2, 6, 3, 5,\n",
            "        4, 8, 9, 0, 9, 7, 5, 7]), tensor([7, 9, 3, 3, 8, 4, 3, 9, 3, 1, 0, 2, 5, 6, 8, 7, 9, 7, 7, 7, 9, 2, 6, 0,\n",
            "        6, 7, 6, 1, 8, 0, 3, 8]), tensor([5, 0, 5, 6, 9, 1, 1, 2, 6, 8, 9, 7, 7, 5, 8, 6, 1, 4, 0, 1, 8, 4, 3, 4,\n",
            "        7, 9, 3, 7, 7, 5, 0, 9]), tensor([1, 2, 1, 2, 7, 4, 6, 9, 3, 4, 6, 1, 7, 8, 1, 6, 5, 9, 0, 0, 9, 5, 3, 8,\n",
            "        8, 2, 8, 5, 7, 0, 7, 0]), tensor([9, 6, 9, 2, 9, 4, 8, 5, 2, 0, 1, 6, 4, 2, 7, 4, 1, 7, 7, 8, 5, 7, 0, 6,\n",
            "        4, 2, 1, 3, 8, 0, 3, 2]), tensor([7, 5, 9, 1, 0, 4, 3, 5, 6, 6, 3, 1, 8, 4, 7, 2, 5, 5, 3, 1, 5, 1, 9, 2,\n",
            "        5, 6, 2, 2, 1, 8, 6, 5]), tensor([2, 4, 0, 4, 8, 4, 5, 1, 2, 4, 6, 4, 6, 8, 5, 7, 7, 7, 6, 5, 5, 7, 9, 7,\n",
            "        8, 2, 8, 2, 1, 3, 3, 4]), tensor([8, 9, 4, 0, 7, 3, 6, 8, 1, 0, 6, 1, 6, 5, 2, 9, 7, 2, 8, 7, 3, 7, 2, 3,\n",
            "        2, 1, 7, 4, 8, 5, 5, 0]), tensor([2, 3, 0, 1, 6, 6, 5, 0, 1, 5, 5, 2, 5, 1, 7, 8, 7, 1, 2, 7, 0, 9, 3, 1,\n",
            "        9, 0, 4, 6, 6, 5, 9, 9]), tensor([4, 2, 7, 1, 0, 1, 4, 2, 3, 7, 8, 4, 0, 4, 5, 4, 2, 9, 3, 5, 8, 0, 1, 9,\n",
            "        6, 7, 3, 7, 4, 4, 6, 6]), tensor([2, 1, 3, 3, 6, 7, 0, 5, 9, 6, 9, 3, 7, 9, 9, 4, 8, 8, 0, 1, 4, 4, 0, 2,\n",
            "        8, 3, 6, 1, 3, 3, 2, 7]), tensor([8, 7, 0, 4, 3, 4, 4, 5, 7, 9, 4, 5, 2, 4, 5, 0, 1, 7, 6, 7, 6, 0, 0, 3,\n",
            "        5, 1, 1, 2, 4, 6, 9, 8]), tensor([1, 0, 1, 6, 8, 5, 4, 6, 2, 0, 4, 9, 3, 8, 5, 2, 8, 6, 2, 8, 2, 4, 4, 6,\n",
            "        8, 7, 5, 2, 8, 7, 2, 9]), tensor([5, 9, 2, 1, 0, 4, 1, 7, 7, 1, 7, 3, 5, 8, 7, 2, 5, 1, 5, 2, 0, 6, 0, 3,\n",
            "        2, 4, 4, 8, 0, 3, 2, 2]), tensor([3, 5, 6, 6, 3, 6, 5, 1, 8, 3, 1, 6, 7, 8, 4, 2, 0, 3, 7, 8, 1, 6, 9, 6,\n",
            "        2, 8, 1, 4, 6, 8, 3, 0]), tensor([8, 5, 7, 5, 4, 7, 7, 6, 1, 8, 1, 7, 7, 0, 3, 1, 6, 5, 5, 3, 8, 9, 4, 0,\n",
            "        9, 5, 1, 7, 2, 1, 5, 2]), tensor([0, 1, 3, 0, 7, 1, 3, 4, 4, 5, 7, 0, 6, 7, 3, 3, 7, 8, 8, 2, 5, 6, 9, 7,\n",
            "        1, 2, 5, 3, 0, 5, 5, 6]), tensor([9, 1, 4, 8, 5, 6, 4, 1, 4, 6, 3, 3, 6, 3, 0, 8, 4, 7, 5, 5, 7, 0, 7, 9,\n",
            "        4, 3, 2, 9, 1, 7, 1, 8]), tensor([8, 8, 9, 8, 3, 8, 9, 3, 0, 0, 2, 1, 8, 4, 4, 2, 0, 9, 5, 3, 1, 9, 1, 3,\n",
            "        5, 6, 6, 2, 1, 7, 3, 0]), tensor([8, 2, 9, 3, 9, 0, 0, 4, 1, 2, 6, 4, 9, 1, 4, 9, 7, 3, 2, 6, 3, 9, 7, 8,\n",
            "        5, 6, 9, 6, 0, 3, 8, 1]), tensor([3, 0, 7, 5, 0, 4, 5, 2, 8, 9, 1, 9, 3, 8, 1, 0])]\n"
          ]
        }
      ]
    },
    {
      "cell_type": "code",
      "source": [
        "# See if required packages are installed and if not, install them...\n",
        "try:\n",
        "  import torchmetrics, mlxtend\n",
        "  print(f\"mlxtend version: {mlxtend.__version__}\")\n",
        "  assert int(mlxtend.__version__.split(\".\")[1] >= 19, \"mlxtend version should be 0.19.0 or higher\")\n",
        "except:\n",
        "  !pip install -q torchmetrics -U mlxtend\n",
        "  import torchmetrics, mlxtend\n",
        "  print(f\"mlxtend version: {mlxtend.__version__}\")"
      ],
      "metadata": {
        "colab": {
          "base_uri": "https://localhost:8080/"
        },
        "id": "X35kp9rmBEsi",
        "outputId": "f43784b7-f749-4a8b-cce5-b451a3e4e72c"
      },
      "execution_count": 45,
      "outputs": [
        {
          "output_type": "stream",
          "name": "stdout",
          "text": [
            "\u001b[?25l     \u001b[90m━━━━━━━━━━━━━━━━━━━━━━━━━━━━━━━━━━━━━━━━\u001b[0m \u001b[32m0.0/519.2 kB\u001b[0m \u001b[31m?\u001b[0m eta \u001b[36m-:--:--\u001b[0m\r\u001b[2K     \u001b[90m━━━━━━━━━━━━━━━━━━━━━━━━━━━━━━━━━━━━━━\u001b[0m \u001b[32m519.2/519.2 kB\u001b[0m \u001b[31m28.6 MB/s\u001b[0m eta \u001b[36m0:00:00\u001b[0m\n",
            "\u001b[?25h\u001b[?25l     \u001b[90m━━━━━━━━━━━━━━━━━━━━━━━━━━━━━━━━━━━━━━━━\u001b[0m \u001b[32m0.0/1.4 MB\u001b[0m \u001b[31m?\u001b[0m eta \u001b[36m-:--:--\u001b[0m\r\u001b[2K     \u001b[90m━━━━━━━━━━━━━━━━━━━━━━━━━━━━━━━━━━━━━━━━\u001b[0m \u001b[32m1.4/1.4 MB\u001b[0m \u001b[31m78.1 MB/s\u001b[0m eta \u001b[36m0:00:00\u001b[0m\n",
            "\u001b[?25hmlxtend version: 0.14.0\n"
          ]
        }
      ]
    },
    {
      "cell_type": "code",
      "source": [
        "import mlxtend"
      ],
      "metadata": {
        "id": "5Y0r5H-xAMJS"
      },
      "execution_count": 46,
      "outputs": []
    },
    {
      "cell_type": "code",
      "source": [
        "len(y_pred_tensor)"
      ],
      "metadata": {
        "colab": {
          "base_uri": "https://localhost:8080/"
        },
        "id": "JjJaH_xSAgVP",
        "outputId": "013a183d-3429-429b-8c7b-cae1bc60effe"
      },
      "execution_count": 47,
      "outputs": [
        {
          "output_type": "execute_result",
          "data": {
            "text/plain": [
              "10000"
            ]
          },
          "metadata": {},
          "execution_count": 47
        }
      ]
    },
    {
      "cell_type": "code",
      "source": [
        "from torchmetrics import ConfusionMatrix\n",
        "from mlxtend.plotting import plot_confusion_matrix\n",
        "\n",
        "confmat=ConfusionMatrix(num_classes=len(class_names), task=\"multiclass\")\n",
        "confmat_tensor=confmat(preds=y_pred_tensor,\n",
        "                       target=test_data.targets)\n",
        "\n",
        "fig, ex=plot_confusion_matrix(\n",
        "    conf_mat=confmat_tensor.numpy(),\n",
        "\n",
        "    figsize=(10,7)\n",
        ")\n"
      ],
      "metadata": {
        "colab": {
          "base_uri": "https://localhost:8080/",
          "height": 619
        },
        "id": "rn8uVqXVAhhw",
        "outputId": "1d18b74a-b048-4cb0-8d64-69aac79d010c"
      },
      "execution_count": 52,
      "outputs": [
        {
          "output_type": "display_data",
          "data": {
            "text/plain": [
              "<Figure size 1000x700 with 1 Axes>"
            ],
            "image/png": "[encoded data removed]"
          },
          "metadata": {}
        }
      ]
    },
    {
      "cell_type": "markdown",
      "source": [
        "Confusion matrix를 살펴보아도 알 수 있듯, 대부분의 이미지 데이터를 잘 학습했다는 것을 알 수 있다."
      ],
      "metadata": {
        "id": "G2wk2fHjCC5E"
      }
    },
    {
      "cell_type": "code",
      "source": [],
      "metadata": {
        "id": "IsH5dFtNBZ1v"
      },
      "execution_count": null,
      "outputs": []
    }
  ]
}